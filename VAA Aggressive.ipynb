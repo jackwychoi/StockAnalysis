{
 "cells": [
  {
   "cell_type": "code",
   "execution_count": 1,
   "metadata": {
    "executionInfo": {
     "elapsed": 1925,
     "status": "ok",
     "timestamp": 1651247388175,
     "user": {
      "displayName": "Wonyoung Choi",
      "userId": "04340733572966642717"
     },
     "user_tz": -540
    },
    "id": "hZzIJfsFA7ge"
   },
   "outputs": [],
   "source": [
    "import numpy as np \n",
    "import pandas as pd \n",
    "import seaborn as sns\n",
    "import matplotlib.pyplot as plt\n",
    "import matplotlib.dates as matdates\n",
    "from datetime import datetime as dt\n",
    "from datetime import date, timedelta\n",
    "import time\n",
    "import yfinance as yf\n",
    "import random\n",
    "import warnings\n",
    "warnings.filterwarnings('ignore')"
   ]
  },
  {
   "cell_type": "code",
   "execution_count": 2,
   "metadata": {
    "executionInfo": {
     "elapsed": 3,
     "status": "ok",
     "timestamp": 1651247388176,
     "user": {
      "displayName": "Wonyoung Choi",
      "userId": "04340733572966642717"
     },
     "user_tz": -540
    },
    "id": "CuYbqvEgDfND"
   },
   "outputs": [],
   "source": [
    "pd.set_option('display.max_rows', None)\n",
    "pd.set_option('display.max_columns', None)"
   ]
  },
  {
   "cell_type": "code",
   "execution_count": 3,
   "metadata": {
    "executionInfo": {
     "elapsed": 3,
     "status": "ok",
     "timestamp": 1651247388176,
     "user": {
      "displayName": "Wonyoung Choi",
      "userId": "04340733572966642717"
     },
     "user_tz": -540
    },
    "id": "_Nn_4-tnCGEm"
   },
   "outputs": [],
   "source": [
    "stock_list = {'SPY' : '미국 대형주/SPY/공격형자산',\n",
    "              'EFA' : '미국 외 선진국 주식/EFA/공격형자산',\n",
    "              'EEM' : '개발도상국 주식/EEM/공격형자산',\n",
    "              'AGG' : '미국 혼합채권/AGG/공격형자산',\n",
    "              'LQD' : '미국 회사채권/LQD/안전자산',\n",
    "              'IEF' : '미국 중기국채/IEF/안전자산',\n",
    "              'SHY' : '미국 단기국채/SHY/안전자산'} "
   ]
  },
  {
   "cell_type": "code",
   "execution_count": 4,
   "metadata": {
    "executionInfo": {
     "elapsed": 508,
     "status": "ok",
     "timestamp": 1651247388682,
     "user": {
      "displayName": "Wonyoung Choi",
      "userId": "04340733572966642717"
     },
     "user_tz": -540
    },
    "id": "XXGmzJl3DX8W"
   },
   "outputs": [],
   "source": [
    "def to_index(x): # 인덱스화\n",
    "    for i in range(1,len(x)):\n",
    "        x.iloc[i] = (x.iloc[i]/x.iloc[0])*100\n",
    "    x.iloc[0] = 100\n",
    "def get_return(x):  #기간 동안의 첫번째 종가와 마지막 시가로 수익률 계산\n",
    "    global stock_return\n",
    "    rate_of_return = round((x.iloc[-1]-100),2)\n",
    "    stock_return.append(rate_of_return)"
   ]
  },
  {
   "cell_type": "code",
   "execution_count": 5,
   "metadata": {
    "colab": {
     "base_uri": "https://localhost:8080/"
    },
    "executionInfo": {
     "elapsed": 9212,
     "status": "ok",
     "timestamp": 1651249337153,
     "user": {
      "displayName": "Wonyoung Choi",
      "userId": "04340733572966642717"
     },
     "user_tz": -540
    },
    "id": "W64yZ8N-INtn",
    "outputId": "fa032e23-f7f7-4c99-fc91-93be6997e2d3"
   },
   "outputs": [
    {
     "name": "stdout",
     "output_type": "stream",
     "text": [
      "[*********************100%***********************]  1 of 1 completed\n",
      "[*********************100%***********************]  1 of 1 completed\n",
      "[*********************100%***********************]  1 of 1 completed\n",
      "[*********************100%***********************]  1 of 1 completed\n",
      "[*********************100%***********************]  1 of 1 completed\n",
      "[*********************100%***********************]  1 of 1 completed\n",
      "[*********************100%***********************]  1 of 1 completed\n",
      "[*********************100%***********************]  1 of 1 completed\n",
      "[*********************100%***********************]  1 of 1 completed\n",
      "[*********************100%***********************]  1 of 1 completed\n",
      "[*********************100%***********************]  1 of 1 completed\n",
      "[*********************100%***********************]  1 of 1 completed\n",
      "[*********************100%***********************]  1 of 1 completed\n",
      "[*********************100%***********************]  1 of 1 completed\n",
      "[*********************100%***********************]  1 of 1 completed\n",
      "[*********************100%***********************]  1 of 1 completed\n",
      "[*********************100%***********************]  1 of 1 completed\n",
      "[*********************100%***********************]  1 of 1 completed\n",
      "[*********************100%***********************]  1 of 1 completed\n",
      "[*********************100%***********************]  1 of 1 completed\n",
      "[*********************100%***********************]  1 of 1 completed\n",
      "[*********************100%***********************]  1 of 1 completed\n",
      "[*********************100%***********************]  1 of 1 completed\n",
      "[*********************100%***********************]  1 of 1 completed\n",
      "[*********************100%***********************]  1 of 1 completed\n",
      "[*********************100%***********************]  1 of 1 completed\n",
      "[*********************100%***********************]  1 of 1 completed\n",
      "[*********************100%***********************]  1 of 1 completed\n",
      "--- 7.873316764831543 seconds ---\n"
     ]
    }
   ],
   "source": [
    "start_time = time.time()\n",
    "\n",
    "period = [4,12,24,48]\n",
    "df = pd.DataFrame({'1 Month' : [], '3 Month' : [], '6 Month' : [], '12 Month' : []})\n",
    "\n",
    "end = dt.now()\n",
    "\n",
    "cols = []\n",
    "for i in period:\n",
    "    start = end - timedelta(weeks=i)\n",
    "    stock_return = []\n",
    "    stock_category = []\n",
    "    for code, category in zip(stock_list.keys(), stock_list.values()):\n",
    "        code = yf.download(code, start)['Adj Close']\n",
    "        to_index(code)\n",
    "        get_return(code)\n",
    "        stock_category.append(category)\n",
    "    df[str(i//4)+' Month'] = stock_return\n",
    "    cols.append(str(i//4)+' Month')\n",
    "df['Momentum Score'] = (12*df['1 Month'])+(4*df['3 Month'])+(2*df['6 Month'])+(1*df['12 Month'])\n",
    "df['Category'] = stock_category\n",
    "ctgrset = df['Category'].str.split('/', expand=True)\n",
    "df['Category'] = ctgrset[0]\n",
    "df['Ticker'] = ctgrset[1]\n",
    "df['Type'] = ctgrset[2]\n",
    "df = df.loc[:3].sort_values('Momentum Score', ascending=False).append(df.loc[4:].sort_values('Momentum Score', ascending=False))\n",
    "\n",
    "print(\"--- %s seconds ---\" % (time.time() - start_time))"
   ]
  },
  {
   "cell_type": "code",
   "execution_count": 6,
   "metadata": {
    "colab": {
     "base_uri": "https://localhost:8080/",
     "height": 268
    },
    "executionInfo": {
     "elapsed": 490,
     "status": "ok",
     "timestamp": 1651249341599,
     "user": {
      "displayName": "Wonyoung Choi",
      "userId": "04340733572966642717"
     },
     "user_tz": -540
    },
    "id": "3QLmtl8GIVCC",
    "outputId": "7c23946c-bb98-4a62-b1f6-56cdbcf41471"
   },
   "outputs": [
    {
     "data": {
      "text/html": [
       "<div><div id=2f43a7bf-02ed-46ba-9824-468198194503 style=\"display:none; background-color:#9D6CFF; color:white; width:200px; height:30px; padding-left:5px; border-radius:4px; flex-direction:row; justify-content:space-around; align-items:center;\" onmouseover=\"this.style.backgroundColor='#BA9BF8'\" onmouseout=\"this.style.backgroundColor='#9D6CFF'\" onclick=\"window.commands?.execute('create-mitosheet-from-dataframe-output');\">See Full Dataframe in Mito</div> <script> if (window.commands?.hasCommand('create-mitosheet-from-dataframe-output')) document.getElementById('2f43a7bf-02ed-46ba-9824-468198194503').style.display = 'flex' </script> <table border=\"1\" class=\"dataframe\">\n",
       "  <thead>\n",
       "    <tr style=\"text-align: right;\">\n",
       "      <th></th>\n",
       "      <th>1 Month</th>\n",
       "      <th>3 Month</th>\n",
       "      <th>6 Month</th>\n",
       "      <th>12 Month</th>\n",
       "      <th>Momentum Score</th>\n",
       "      <th>Category</th>\n",
       "      <th>Ticker</th>\n",
       "      <th>Type</th>\n",
       "    </tr>\n",
       "  </thead>\n",
       "  <tbody>\n",
       "    <tr>\n",
       "      <th>0</th>\n",
       "      <td>3.90</td>\n",
       "      <td>9.37</td>\n",
       "      <td>12.10</td>\n",
       "      <td>11.13</td>\n",
       "      <td>119.61</td>\n",
       "      <td>미국 대형주</td>\n",
       "      <td>SPY</td>\n",
       "      <td>공격형자산</td>\n",
       "    </tr>\n",
       "    <tr>\n",
       "      <th>2</th>\n",
       "      <td>3.45</td>\n",
       "      <td>5.58</td>\n",
       "      <td>5.50</td>\n",
       "      <td>0.56</td>\n",
       "      <td>75.28</td>\n",
       "      <td>개발도상국 주식</td>\n",
       "      <td>EEM</td>\n",
       "      <td>공격형자산</td>\n",
       "    </tr>\n",
       "    <tr>\n",
       "      <th>1</th>\n",
       "      <td>-0.70</td>\n",
       "      <td>7.46</td>\n",
       "      <td>10.20</td>\n",
       "      <td>16.93</td>\n",
       "      <td>58.77</td>\n",
       "      <td>미국 외 선진국 주식</td>\n",
       "      <td>EFA</td>\n",
       "      <td>공격형자산</td>\n",
       "    </tr>\n",
       "    <tr>\n",
       "      <th>3</th>\n",
       "      <td>-1.08</td>\n",
       "      <td>-0.69</td>\n",
       "      <td>1.35</td>\n",
       "      <td>-0.63</td>\n",
       "      <td>-13.65</td>\n",
       "      <td>미국 혼합채권</td>\n",
       "      <td>AGG</td>\n",
       "      <td>공격형자산</td>\n",
       "    </tr>\n",
       "    <tr>\n",
       "      <th>6</th>\n",
       "      <td>-0.65</td>\n",
       "      <td>-0.32</td>\n",
       "      <td>1.24</td>\n",
       "      <td>0.68</td>\n",
       "      <td>-5.92</td>\n",
       "      <td>미국 단기국채</td>\n",
       "      <td>SHY</td>\n",
       "      <td>안전자산</td>\n",
       "    </tr>\n",
       "    <tr>\n",
       "      <th>4</th>\n",
       "      <td>-1.05</td>\n",
       "      <td>-0.11</td>\n",
       "      <td>1.43</td>\n",
       "      <td>0.17</td>\n",
       "      <td>-10.01</td>\n",
       "      <td>미국 회사채권</td>\n",
       "      <td>LQD</td>\n",
       "      <td>안전자산</td>\n",
       "    </tr>\n",
       "    <tr>\n",
       "      <th>5</th>\n",
       "      <td>-2.13</td>\n",
       "      <td>-1.49</td>\n",
       "      <td>1.49</td>\n",
       "      <td>-2.12</td>\n",
       "      <td>-30.66</td>\n",
       "      <td>미국 중기국채</td>\n",
       "      <td>IEF</td>\n",
       "      <td>안전자산</td>\n",
       "    </tr>\n",
       "  </tbody>\n",
       "</table></div>"
      ],
      "text/plain": [
       "   1 Month  3 Month  6 Month  12 Month  Momentum Score     Category Ticker  \\\n",
       "0     3.90     9.37    12.10     11.13          119.61       미국 대형주    SPY   \n",
       "2     3.45     5.58     5.50      0.56           75.28     개발도상국 주식    EEM   \n",
       "1    -0.70     7.46    10.20     16.93           58.77  미국 외 선진국 주식    EFA   \n",
       "3    -1.08    -0.69     1.35     -0.63          -13.65      미국 혼합채권    AGG   \n",
       "6    -0.65    -0.32     1.24      0.68           -5.92      미국 단기국채    SHY   \n",
       "4    -1.05    -0.11     1.43      0.17          -10.01      미국 회사채권    LQD   \n",
       "5    -2.13    -1.49     1.49     -2.12          -30.66      미국 중기국채    IEF   \n",
       "\n",
       "    Type  \n",
       "0  공격형자산  \n",
       "2  공격형자산  \n",
       "1  공격형자산  \n",
       "3  공격형자산  \n",
       "6   안전자산  \n",
       "4   안전자산  \n",
       "5   안전자산  "
      ]
     },
     "execution_count": 6,
     "metadata": {},
     "output_type": "execute_result"
    }
   ],
   "source": [
    "df"
   ]
  },
  {
   "cell_type": "code",
   "execution_count": 7,
   "metadata": {
    "colab": {
     "base_uri": "https://localhost:8080/"
    },
    "executionInfo": {
     "elapsed": 9286,
     "status": "ok",
     "timestamp": 1651249274828,
     "user": {
      "displayName": "Wonyoung Choi",
      "userId": "04340733572966642717"
     },
     "user_tz": -540
    },
    "id": "kXG4UA5DDthN",
    "outputId": "a5e399de-4799-426a-cb7b-4a4cad5364a6"
   },
   "outputs": [
    {
     "name": "stdout",
     "output_type": "stream",
     "text": [
      "[*********************100%***********************]  1 of 1 completed\n",
      "[*********************100%***********************]  1 of 1 completed\n",
      "[*********************100%***********************]  1 of 1 completed\n",
      "[*********************100%***********************]  1 of 1 completed\n",
      "[*********************100%***********************]  1 of 1 completed\n",
      "[*********************100%***********************]  1 of 1 completed\n",
      "[*********************100%***********************]  1 of 1 completed\n",
      "[*********************100%***********************]  1 of 1 completed\n",
      "[*********************100%***********************]  1 of 1 completed\n",
      "[*********************100%***********************]  1 of 1 completed\n",
      "[*********************100%***********************]  1 of 1 completed\n",
      "[*********************100%***********************]  1 of 1 completed\n",
      "[*********************100%***********************]  1 of 1 completed\n",
      "[*********************100%***********************]  1 of 1 completed\n",
      "[*********************100%***********************]  1 of 1 completed\n",
      "[*********************100%***********************]  1 of 1 completed\n",
      "[*********************100%***********************]  1 of 1 completed\n",
      "[*********************100%***********************]  1 of 1 completed\n",
      "[*********************100%***********************]  1 of 1 completed\n",
      "[*********************100%***********************]  1 of 1 completed\n",
      "[*********************100%***********************]  1 of 1 completed\n",
      "[*********************100%***********************]  1 of 1 completed\n",
      "[*********************100%***********************]  1 of 1 completed\n",
      "[*********************100%***********************]  1 of 1 completed\n",
      "[*********************100%***********************]  1 of 1 completed\n",
      "[*********************100%***********************]  1 of 1 completed\n",
      "[*********************100%***********************]  1 of 1 completed\n",
      "[*********************100%***********************]  1 of 1 completed\n",
      "--- 6.433447360992432 seconds ---\n"
     ]
    }
   ],
   "source": [
    "start_time = time.time()\n",
    "\n",
    "period = [4,12,24,48]\n",
    "df = pd.DataFrame({'1 Month' : [], '3 Month' : [], '6 Month' : [], '12 Month' : []})\n",
    "\n",
    "end = dt.now()\n",
    "\n",
    "cols = []\n",
    "for i in period:\n",
    "    start = end - timedelta(weeks=i)\n",
    "    stock_return = []\n",
    "    stock_category = []\n",
    "    for code, category in zip(stock_list.keys(), stock_list.values()):\n",
    "        code = yf.download(code, start)['Close']\n",
    "        to_index(code)\n",
    "        get_return(code)\n",
    "        stock_category.append(category)\n",
    "    df[str(i//4)+' Month'] = stock_return\n",
    "    cols.append(str(i//4)+' Month')\n",
    "df['Momentum Score'] = (12*df['1 Month'])+(4*df['3 Month'])+(2*df['6 Month'])+(1*df['12 Month'])\n",
    "df['Category'] = stock_category\n",
    "ctgrset = df['Category'].str.split('/', expand=True)\n",
    "df['Category'] = ctgrset[0]\n",
    "df['Ticker'] = ctgrset[1]\n",
    "df['Type'] = ctgrset[2]\n",
    "df = df.loc[:3].sort_values('Momentum Score', ascending=False).append(df.loc[4:].sort_values('Momentum Score', ascending=False))\n",
    "\n",
    "print(\"--- %s seconds ---\" % (time.time() - start_time))"
   ]
  },
  {
   "cell_type": "code",
   "execution_count": 8,
   "metadata": {
    "colab": {
     "base_uri": "https://localhost:8080/",
     "height": 268
    },
    "executionInfo": {
     "elapsed": 410,
     "status": "ok",
     "timestamp": 1651249278630,
     "user": {
      "displayName": "Wonyoung Choi",
      "userId": "04340733572966642717"
     },
     "user_tz": -540
    },
    "id": "DihvO6hLE4-T",
    "outputId": "1c8051d7-d249-41dd-eaec-d2ef73b31f6a"
   },
   "outputs": [
    {
     "data": {
      "text/html": [
       "<div><div id=29946dc3-d8d5-4b22-8de7-c11e2e9d4079 style=\"display:none; background-color:#9D6CFF; color:white; width:200px; height:30px; padding-left:5px; border-radius:4px; flex-direction:row; justify-content:space-around; align-items:center;\" onmouseover=\"this.style.backgroundColor='#BA9BF8'\" onmouseout=\"this.style.backgroundColor='#9D6CFF'\" onclick=\"window.commands?.execute('create-mitosheet-from-dataframe-output');\">See Full Dataframe in Mito</div> <script> if (window.commands?.hasCommand('create-mitosheet-from-dataframe-output')) document.getElementById('29946dc3-d8d5-4b22-8de7-c11e2e9d4079').style.display = 'flex' </script> <table border=\"1\" class=\"dataframe\">\n",
       "  <thead>\n",
       "    <tr style=\"text-align: right;\">\n",
       "      <th></th>\n",
       "      <th>1 Month</th>\n",
       "      <th>3 Month</th>\n",
       "      <th>6 Month</th>\n",
       "      <th>12 Month</th>\n",
       "      <th>Momentum Score</th>\n",
       "      <th>Category</th>\n",
       "      <th>Ticker</th>\n",
       "      <th>Type</th>\n",
       "    </tr>\n",
       "  </thead>\n",
       "  <tbody>\n",
       "    <tr>\n",
       "      <th>0</th>\n",
       "      <td>3.63</td>\n",
       "      <td>9.37</td>\n",
       "      <td>11.40</td>\n",
       "      <td>10.02</td>\n",
       "      <td>113.86</td>\n",
       "      <td>미국 대형주</td>\n",
       "      <td>SPY</td>\n",
       "      <td>공격형자산</td>\n",
       "    </tr>\n",
       "    <tr>\n",
       "      <th>2</th>\n",
       "      <td>2.63</td>\n",
       "      <td>5.20</td>\n",
       "      <td>4.67</td>\n",
       "      <td>-1.31</td>\n",
       "      <td>60.39</td>\n",
       "      <td>개발도상국 주식</td>\n",
       "      <td>EEM</td>\n",
       "      <td>공격형자산</td>\n",
       "    </tr>\n",
       "    <tr>\n",
       "      <th>1</th>\n",
       "      <td>-2.51</td>\n",
       "      <td>6.14</td>\n",
       "      <td>8.22</td>\n",
       "      <td>14.38</td>\n",
       "      <td>25.26</td>\n",
       "      <td>미국 외 선진국 주식</td>\n",
       "      <td>EFA</td>\n",
       "      <td>공격형자산</td>\n",
       "    </tr>\n",
       "    <tr>\n",
       "      <th>3</th>\n",
       "      <td>-1.72</td>\n",
       "      <td>-1.46</td>\n",
       "      <td>0.08</td>\n",
       "      <td>-3.14</td>\n",
       "      <td>-29.46</td>\n",
       "      <td>미국 혼합채권</td>\n",
       "      <td>AGG</td>\n",
       "      <td>공격형자산</td>\n",
       "    </tr>\n",
       "    <tr>\n",
       "      <th>6</th>\n",
       "      <td>-0.89</td>\n",
       "      <td>-1.01</td>\n",
       "      <td>0.15</td>\n",
       "      <td>-1.35</td>\n",
       "      <td>-15.77</td>\n",
       "      <td>미국 단기국채</td>\n",
       "      <td>SHY</td>\n",
       "      <td>안전자산</td>\n",
       "    </tr>\n",
       "    <tr>\n",
       "      <th>4</th>\n",
       "      <td>-1.38</td>\n",
       "      <td>-1.07</td>\n",
       "      <td>-0.21</td>\n",
       "      <td>-3.19</td>\n",
       "      <td>-24.45</td>\n",
       "      <td>미국 회사채권</td>\n",
       "      <td>LQD</td>\n",
       "      <td>안전자산</td>\n",
       "    </tr>\n",
       "    <tr>\n",
       "      <th>5</th>\n",
       "      <td>-2.36</td>\n",
       "      <td>-2.15</td>\n",
       "      <td>0.39</td>\n",
       "      <td>-4.30</td>\n",
       "      <td>-40.44</td>\n",
       "      <td>미국 중기국채</td>\n",
       "      <td>IEF</td>\n",
       "      <td>안전자산</td>\n",
       "    </tr>\n",
       "  </tbody>\n",
       "</table></div>"
      ],
      "text/plain": [
       "   1 Month  3 Month  6 Month  12 Month  Momentum Score     Category Ticker  \\\n",
       "0     3.63     9.37    11.40     10.02          113.86       미국 대형주    SPY   \n",
       "2     2.63     5.20     4.67     -1.31           60.39     개발도상국 주식    EEM   \n",
       "1    -2.51     6.14     8.22     14.38           25.26  미국 외 선진국 주식    EFA   \n",
       "3    -1.72    -1.46     0.08     -3.14          -29.46      미국 혼합채권    AGG   \n",
       "6    -0.89    -1.01     0.15     -1.35          -15.77      미국 단기국채    SHY   \n",
       "4    -1.38    -1.07    -0.21     -3.19          -24.45      미국 회사채권    LQD   \n",
       "5    -2.36    -2.15     0.39     -4.30          -40.44      미국 중기국채    IEF   \n",
       "\n",
       "    Type  \n",
       "0  공격형자산  \n",
       "2  공격형자산  \n",
       "1  공격형자산  \n",
       "3  공격형자산  \n",
       "6   안전자산  \n",
       "4   안전자산  \n",
       "5   안전자산  "
      ]
     },
     "execution_count": 8,
     "metadata": {},
     "output_type": "execute_result"
    }
   ],
   "source": [
    "df"
   ]
  },
  {
   "cell_type": "code",
   "execution_count": 9,
   "metadata": {
    "executionInfo": {
     "elapsed": 4,
     "status": "ok",
     "timestamp": 1651247399341,
     "user": {
      "displayName": "Wonyoung Choi",
      "userId": "04340733572966642717"
     },
     "user_tz": -540
    },
    "id": "mXu76WGjE708"
   },
   "outputs": [],
   "source": [
    "# 공격형 자산 4개 모두의 모멘텀 스코어가 0 이상일 경우 포트폴리오 전체를 모멘텀 스코어가 가장 높은 공격형 자산에 투자\n",
    "# 공격형 자산 4개 중 한 개라도 모멘텀 스코어가 0 이하일 경우 포트폴리오 전체를 가장 모멘텀 스코어가 높은 안전자산에 투자"
   ]
  }
 ],
 "metadata": {
  "colab": {
   "authorship_tag": "ABX9TyPXZ5YcNTheDDKg34+g7lmY",
   "name": "VAA Aggressive.ipynb",
   "provenance": []
  },
  "kernelspec": {
   "display_name": "Python 3 (ipykernel)",
   "language": "python",
   "name": "python3"
  },
  "language_info": {
   "codemirror_mode": {
    "name": "ipython",
    "version": 3
   },
   "file_extension": ".py",
   "mimetype": "text/x-python",
   "name": "python",
   "nbconvert_exporter": "python",
   "pygments_lexer": "ipython3",
   "version": "3.9.7"
  }
 },
 "nbformat": 4,
 "nbformat_minor": 4
}
