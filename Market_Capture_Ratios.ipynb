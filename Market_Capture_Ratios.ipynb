{
 "cells": [
  {
   "cell_type": "code",
   "execution_count": 1,
   "metadata": {},
   "outputs": [],
   "source": [
    "import pandas as pd\n",
    "import numpy as np\n",
    "import yfinance as yf"
   ]
  },
  {
   "cell_type": "code",
   "execution_count": 2,
   "metadata": {},
   "outputs": [
    {
     "name": "stdout",
     "output_type": "stream",
     "text": [
      "[*********************100%***********************]  2 of 2 completed\n"
     ]
    },
    {
     "name": "stderr",
     "output_type": "stream",
     "text": [
      "C:\\Users\\Wonyoung\\AppData\\Roaming\\Python\\Python310\\site-packages\\yfinance\\utils.py:768: FutureWarning: The 'unit' keyword in TimedeltaIndex construction is deprecated and will be removed in a future version. Use pd.to_timedelta instead.\n",
      "  df.index += _pd.TimedeltaIndex(dst_error_hours, 'h')\n",
      "C:\\Users\\Wonyoung\\AppData\\Roaming\\Python\\Python310\\site-packages\\yfinance\\utils.py:768: FutureWarning: The 'unit' keyword in TimedeltaIndex construction is deprecated and will be removed in a future version. Use pd.to_timedelta instead.\n",
      "  df.index += _pd.TimedeltaIndex(dst_error_hours, 'h')\n",
      "C:\\Users\\Wonyoung\\AppData\\Local\\Temp\\ipykernel_27196\\4082315792.py:56: FutureWarning: 'M' is deprecated and will be removed in a future version, please use 'ME' instead.\n",
      "  df_rets_monthly = df_prices.resample('M').last().pct_change().dropna()\n"
     ]
    }
   ],
   "source": [
    "# %% Function\n",
    "\n",
    "def market_capture_ratio(returns):\n",
    "    \"\"\"\n",
    "    Function to calculate the upside and downside capture for a given set of returns.\n",
    "    The function is set up so that the investment's returns are in the first column of the dataframe\n",
    "    and the index returns are the second column.\n",
    "    :param returns: pd.DataFrame of asset class returns\n",
    "    :return: pd.DataFrame of market capture results\n",
    "    \"\"\"\n",
    "\n",
    "    # initialize an empty dataframe to store the results\n",
    "    df_mkt_capture = pd.DataFrame()\n",
    "\n",
    "    # 1) Upside capture ratio\n",
    "    # a) Isolate positive periods of the index\n",
    "    up_market = returns[returns.iloc[:, -1] >= 0]\n",
    "\n",
    "    # b) Geometrically link the returns\n",
    "    up_linked_rets = ((1 + up_market).product(axis=0)) - 1\n",
    "\n",
    "    # c) Calculate the ratio, multiply by 100 and round to 2 decimals to show in percent\n",
    "    up_ratio = (up_linked_rets / up_linked_rets.iloc[-1] * 100).round(2)\n",
    "\n",
    "    # 2) Downside capture ratio\n",
    "    # a) Isolate negative periods of the index\n",
    "    down_market = returns[returns.iloc[:, -1] < 0]\n",
    "\n",
    "    # b) Geometrically link the returns\n",
    "    down_linked_rets = ((1 + down_market).product(axis=0)) - 1\n",
    "\n",
    "    # c) Calculate the ratio, multiply by 100 and round to 2 decimals to show in percent\n",
    "    down_ratio = (down_linked_rets / down_linked_rets.iloc[-1] * 100).round(2)\n",
    "\n",
    "    # 3) Combine to produce our final dataframe\n",
    "    df_mkt_capture = pd.concat([up_ratio, down_ratio], axis=1)\n",
    "\n",
    "    df_mkt_capture.columns = ['Upside Capture', 'Downside Capture']\n",
    "\n",
    "    return df_mkt_capture\n",
    "\n",
    "# %% Retrieve the returns\n",
    "\n",
    "# Specify the tickers to retrieve using yfinance\n",
    "tickers = ['FCNTX', 'SPY']\n",
    "start_date = '2014-06-01'\n",
    "end_date = '2024-05-31'\n",
    "\n",
    "# Retrieve the historical data for the tickers\n",
    "df_prices = yf.download(tickers, start=start_date, end=end_date)\n",
    "\n",
    "# Keep only the adjusted close columns\n",
    "df_prices = df_prices['Adj Close']\n",
    "\n",
    "# Resample to month end and calculate the monthly percent change\n",
    "df_rets_monthly = df_prices.resample('M').last().pct_change().dropna()\n",
    "\n",
    "# Calculate the market capture ratios\n",
    "df_mkt_capture = market_capture_ratio(df_rets_monthly)"
   ]
  },
  {
   "cell_type": "code",
   "execution_count": 3,
   "metadata": {},
   "outputs": [
    {
     "data": {
      "text/html": [
       "<div>\n",
       "<style scoped>\n",
       "    .dataframe tbody tr th:only-of-type {\n",
       "        vertical-align: middle;\n",
       "    }\n",
       "\n",
       "    .dataframe tbody tr th {\n",
       "        vertical-align: top;\n",
       "    }\n",
       "\n",
       "    .dataframe thead th {\n",
       "        text-align: right;\n",
       "    }\n",
       "</style>\n",
       "<table border=\"1\" class=\"dataframe\">\n",
       "  <thead>\n",
       "    <tr style=\"text-align: right;\">\n",
       "      <th></th>\n",
       "      <th>Upside Capture</th>\n",
       "      <th>Downside Capture</th>\n",
       "    </tr>\n",
       "  </thead>\n",
       "  <tbody>\n",
       "    <tr>\n",
       "      <th>FCNTX</th>\n",
       "      <td>118.37</td>\n",
       "      <td>99.25</td>\n",
       "    </tr>\n",
       "    <tr>\n",
       "      <th>SPY</th>\n",
       "      <td>100.00</td>\n",
       "      <td>100.00</td>\n",
       "    </tr>\n",
       "  </tbody>\n",
       "</table>\n",
       "</div>"
      ],
      "text/plain": [
       "       Upside Capture  Downside Capture\n",
       "FCNTX          118.37             99.25\n",
       "SPY            100.00            100.00"
      ]
     },
     "execution_count": 3,
     "metadata": {},
     "output_type": "execute_result"
    }
   ],
   "source": [
    "df_mkt_capture"
   ]
  }
 ],
 "metadata": {
  "kernelspec": {
   "display_name": "base",
   "language": "python",
   "name": "python3"
  },
  "language_info": {
   "codemirror_mode": {
    "name": "ipython",
    "version": 3
   },
   "file_extension": ".py",
   "mimetype": "text/x-python",
   "name": "python",
   "nbconvert_exporter": "python",
   "pygments_lexer": "ipython3",
   "version": "3.10.9"
  }
 },
 "nbformat": 4,
 "nbformat_minor": 2
}
