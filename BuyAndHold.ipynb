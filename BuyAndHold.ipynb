{
 "cells": [
  {
   "cell_type": "code",
   "execution_count": 1,
   "metadata": {
    "executionInfo": {
     "elapsed": 577,
     "status": "ok",
     "timestamp": 1643519648930,
     "user": {
      "displayName": "Wonyoung Choi",
      "photoUrl": "https://lh3.googleusercontent.com/a-/AOh14GhjFoQLJd5EdOeEwIzqDPHlKqZmX2G5i_kDz-wENA=s64",
      "userId": "04340733572966642717"
     },
     "user_tz": -540
    },
    "id": "Qks953djVIQG"
   },
   "outputs": [],
   "source": [
    "import numpy as np \n",
    "import pandas as pd \n",
    "import seaborn as sns\n",
    "import matplotlib.pyplot as plt\n",
    "import matplotlib.dates as matdates\n",
    "import datetime as dt\n",
    "import yfinance as yf"
   ]
  },
  {
   "cell_type": "code",
   "execution_count": 2,
   "metadata": {
    "colab": {
     "base_uri": "https://localhost:8080/"
    },
    "executionInfo": {
     "elapsed": 6273,
     "status": "ok",
     "timestamp": 1643519655202,
     "user": {
      "displayName": "Wonyoung Choi",
      "photoUrl": "https://lh3.googleusercontent.com/a-/AOh14GhjFoQLJd5EdOeEwIzqDPHlKqZmX2G5i_kDz-wENA=s64",
      "userId": "04340733572966642717"
     },
     "user_tz": -540
    },
    "id": "mZ5xryJ2VU_i",
    "outputId": "be0d1fde-4991-4912-df4f-024395ed8a6b"
   },
   "outputs": [
    {
     "name": "stdout",
     "output_type": "stream",
     "text": [
      "[*********************100%***********************]  1 of 1 completed\n",
      "[*********************100%***********************]  1 of 1 completed\n",
      "[*********************100%***********************]  1 of 1 completed\n",
      "[*********************100%***********************]  1 of 1 completed\n",
      "[*********************100%***********************]  1 of 1 completed\n",
      "[*********************100%***********************]  1 of 1 completed\n",
      "[*********************100%***********************]  1 of 1 completed\n",
      "[*********************100%***********************]  1 of 1 completed\n",
      "[*********************100%***********************]  1 of 1 completed\n",
      "[*********************100%***********************]  1 of 1 completed\n"
     ]
    }
   ],
   "source": [
    "nvda = yf.download('NVDA')\n",
    "nflx = yf.download('NFLX')\n",
    "meta = yf.download('META')\n",
    "tsla = yf.download('TSLA')\n",
    "apple = yf.download('AAPL')\n",
    "sbux = yf.download('SBUX')\n",
    "ford = yf.download('F')\n",
    "mdn = yf.download('MRNA')\n",
    "pfzr = yf.download('PFE')\n",
    "amz = yf.download('AMZN')"
   ]
  },
  {
   "cell_type": "code",
   "execution_count": 3,
   "metadata": {
    "executionInfo": {
     "elapsed": 4,
     "status": "ok",
     "timestamp": 1643519655202,
     "user": {
      "displayName": "Wonyoung Choi",
      "photoUrl": "https://lh3.googleusercontent.com/a-/AOh14GhjFoQLJd5EdOeEwIzqDPHlKqZmX2G5i_kDz-wENA=s64",
      "userId": "04340733572966642717"
     },
     "user_tz": -540
    },
    "id": "WQVbscrAWY10"
   },
   "outputs": [],
   "source": [
    "nvda.insert(0, 'Date_mask', nvda.index)\n",
    "nflx.insert(0, 'Date_mask', nflx.index)\n",
    "meta.insert(0, 'Date_mask', meta.index)\n",
    "tsla.insert(0, 'Date_mask', tsla.index)\n",
    "apple.insert(0, 'Date_mask', apple.index)\n",
    "sbux.insert(0, 'Date_mask', sbux.index)\n",
    "ford.insert(0, 'Date_mask', ford.index)\n",
    "mdn.insert(0, 'Date_mask', mdn.index)\n",
    "pfzr.insert(0, 'Date_mask', pfzr.index)\n",
    "amz.insert(0, 'Date_mask', amz.index)"
   ]
  },
  {
   "cell_type": "code",
   "execution_count": 4,
   "metadata": {},
   "outputs": [
    {
     "data": {
      "text/html": [
       "<div><div id=0071bb62-348b-4305-ab57-1dde52caaabc style=\"display:none; background-color:#9D6CFF; color:white; width:200px; height:30px; padding-left:5px; border-radius:4px; flex-direction:row; justify-content:space-around; align-items:center;\" onmouseover=\"this.style.backgroundColor='#BA9BF8'\" onmouseout=\"this.style.backgroundColor='#9D6CFF'\" onclick=\"window.commands?.execute('create-mitosheet-from-dataframe-output');\">See Full Dataframe in Mito</div> <script> if (window.commands?.hasCommand('create-mitosheet-from-dataframe-output')) document.getElementById('0071bb62-348b-4305-ab57-1dde52caaabc').style.display = 'flex' </script> <table border=\"1\" class=\"dataframe\">\n",
       "  <thead>\n",
       "    <tr style=\"text-align: right;\">\n",
       "      <th></th>\n",
       "      <th>Date_mask</th>\n",
       "      <th>Open</th>\n",
       "      <th>High</th>\n",
       "      <th>Low</th>\n",
       "      <th>Close</th>\n",
       "      <th>Adj Close</th>\n",
       "      <th>Volume</th>\n",
       "    </tr>\n",
       "    <tr>\n",
       "      <th>Date</th>\n",
       "      <th></th>\n",
       "      <th></th>\n",
       "      <th></th>\n",
       "      <th></th>\n",
       "      <th></th>\n",
       "      <th></th>\n",
       "      <th></th>\n",
       "    </tr>\n",
       "  </thead>\n",
       "  <tbody>\n",
       "    <tr>\n",
       "      <th>1999-01-22 00:00:00-05:00</th>\n",
       "      <td>1999-01-22 00:00:00-05:00</td>\n",
       "      <td>0.437500</td>\n",
       "      <td>0.488281</td>\n",
       "      <td>0.388021</td>\n",
       "      <td>0.410156</td>\n",
       "      <td>0.376358</td>\n",
       "      <td>271468800</td>\n",
       "    </tr>\n",
       "    <tr>\n",
       "      <th>1999-01-25 00:00:00-05:00</th>\n",
       "      <td>1999-01-25 00:00:00-05:00</td>\n",
       "      <td>0.442708</td>\n",
       "      <td>0.458333</td>\n",
       "      <td>0.410156</td>\n",
       "      <td>0.453125</td>\n",
       "      <td>0.415786</td>\n",
       "      <td>51048000</td>\n",
       "    </tr>\n",
       "    <tr>\n",
       "      <th>1999-01-26 00:00:00-05:00</th>\n",
       "      <td>1999-01-26 00:00:00-05:00</td>\n",
       "      <td>0.458333</td>\n",
       "      <td>0.467448</td>\n",
       "      <td>0.411458</td>\n",
       "      <td>0.417969</td>\n",
       "      <td>0.383527</td>\n",
       "      <td>34320000</td>\n",
       "    </tr>\n",
       "    <tr>\n",
       "      <th>1999-01-27 00:00:00-05:00</th>\n",
       "      <td>1999-01-27 00:00:00-05:00</td>\n",
       "      <td>0.419271</td>\n",
       "      <td>0.429688</td>\n",
       "      <td>0.395833</td>\n",
       "      <td>0.416667</td>\n",
       "      <td>0.382332</td>\n",
       "      <td>24436800</td>\n",
       "    </tr>\n",
       "    <tr>\n",
       "      <th>1999-01-28 00:00:00-05:00</th>\n",
       "      <td>1999-01-28 00:00:00-05:00</td>\n",
       "      <td>0.416667</td>\n",
       "      <td>0.419271</td>\n",
       "      <td>0.412760</td>\n",
       "      <td>0.415365</td>\n",
       "      <td>0.381137</td>\n",
       "      <td>22752000</td>\n",
       "    </tr>\n",
       "  </tbody>\n",
       "</table></div>"
      ],
      "text/plain": [
       "                                          Date_mask      Open      High  \\\n",
       "Date                                                                      \n",
       "1999-01-22 00:00:00-05:00 1999-01-22 00:00:00-05:00  0.437500  0.488281   \n",
       "1999-01-25 00:00:00-05:00 1999-01-25 00:00:00-05:00  0.442708  0.458333   \n",
       "1999-01-26 00:00:00-05:00 1999-01-26 00:00:00-05:00  0.458333  0.467448   \n",
       "1999-01-27 00:00:00-05:00 1999-01-27 00:00:00-05:00  0.419271  0.429688   \n",
       "1999-01-28 00:00:00-05:00 1999-01-28 00:00:00-05:00  0.416667  0.419271   \n",
       "\n",
       "                                Low     Close  Adj Close     Volume  \n",
       "Date                                                                 \n",
       "1999-01-22 00:00:00-05:00  0.388021  0.410156   0.376358  271468800  \n",
       "1999-01-25 00:00:00-05:00  0.410156  0.453125   0.415786   51048000  \n",
       "1999-01-26 00:00:00-05:00  0.411458  0.417969   0.383527   34320000  \n",
       "1999-01-27 00:00:00-05:00  0.395833  0.416667   0.382332   24436800  \n",
       "1999-01-28 00:00:00-05:00  0.412760  0.415365   0.381137   22752000  "
      ]
     },
     "execution_count": 4,
     "metadata": {},
     "output_type": "execute_result"
    }
   ],
   "source": [
    "nvda.head()"
   ]
  },
  {
   "cell_type": "code",
   "execution_count": 5,
   "metadata": {
    "executionInfo": {
     "elapsed": 537,
     "status": "ok",
     "timestamp": 1643519655736,
     "user": {
      "displayName": "Wonyoung Choi",
      "photoUrl": "https://lh3.googleusercontent.com/a-/AOh14GhjFoQLJd5EdOeEwIzqDPHlKqZmX2G5i_kDz-wENA=s64",
      "userId": "04340733572966642717"
     },
     "user_tz": -540
    },
    "id": "d4Zdcr6YdSXs"
   },
   "outputs": [],
   "source": [
    "nvda.insert(1, 'Date_str', nvda['Date_mask'].dt.strftime('%Y-%m-%d'))\n",
    "nflx.insert(1, 'Date_str', nflx['Date_mask'].dt.strftime('%Y-%m-%d'))\n",
    "meta.insert(1, 'Date_str', meta['Date_mask'].dt.strftime('%Y-%m-%d'))\n",
    "tsla.insert(1, 'Date_str', tsla['Date_mask'].dt.strftime('%Y-%m-%d'))\n",
    "apple.insert(1, 'Date_str', apple['Date_mask'].dt.strftime('%Y-%m-%d'))\n",
    "sbux.insert(1, 'Date_str', sbux['Date_mask'].dt.strftime('%Y-%m-%d'))\n",
    "ford.insert(1, 'Date_str', ford['Date_mask'].dt.strftime('%Y-%m-%d'))\n",
    "mdn.insert(1, 'Date_str', mdn['Date_mask'].dt.strftime('%Y-%m-%d'))\n",
    "pfzr.insert(1, 'Date_str', pfzr['Date_mask'].dt.strftime('%Y-%m-%d'))\n",
    "amz.insert(1, 'Date_str', amz['Date_mask'].dt.strftime('%Y-%m-%d'))"
   ]
  },
  {
   "cell_type": "code",
   "execution_count": 6,
   "metadata": {
    "executionInfo": {
     "elapsed": 5,
     "status": "ok",
     "timestamp": 1643519655736,
     "user": {
      "displayName": "Wonyoung Choi",
      "photoUrl": "https://lh3.googleusercontent.com/a-/AOh14GhjFoQLJd5EdOeEwIzqDPHlKqZmX2G5i_kDz-wENA=s64",
      "userId": "04340733572966642717"
     },
     "user_tz": -540
    },
    "id": "b5XDeP9zdpOA"
   },
   "outputs": [],
   "source": [
    "nvda.drop('Date_mask', axis=1, inplace=True)\n",
    "nflx.drop('Date_mask', axis=1, inplace=True)\n",
    "meta.drop('Date_mask', axis=1, inplace=True)\n",
    "tsla.drop('Date_mask', axis=1, inplace=True)\n",
    "apple.drop('Date_mask', axis=1, inplace=True)\n",
    "sbux.drop('Date_mask', axis=1, inplace=True)\n",
    "ford.drop('Date_mask', axis=1, inplace=True)\n",
    "mdn.drop('Date_mask', axis=1, inplace=True)\n",
    "pfzr.drop('Date_mask', axis=1, inplace=True)\n",
    "amz.drop('Date_mask', axis=1, inplace=True)"
   ]
  },
  {
   "cell_type": "code",
   "execution_count": 7,
   "metadata": {
    "colab": {
     "base_uri": "https://localhost:8080/",
     "height": 406
    },
    "executionInfo": {
     "elapsed": 5,
     "status": "ok",
     "timestamp": 1643519655736,
     "user": {
      "displayName": "Wonyoung Choi",
      "photoUrl": "https://lh3.googleusercontent.com/a-/AOh14GhjFoQLJd5EdOeEwIzqDPHlKqZmX2G5i_kDz-wENA=s64",
      "userId": "04340733572966642717"
     },
     "user_tz": -540
    },
    "id": "aefe3gzFd3N3",
    "outputId": "f3ff83f4-5e62-42a8-bf3a-eddacc45ba4a"
   },
   "outputs": [
    {
     "data": {
      "text/html": [
       "<div><div id=b5940426-31c7-4108-b579-d5872e70ee3c style=\"display:none; background-color:#9D6CFF; color:white; width:200px; height:30px; padding-left:5px; border-radius:4px; flex-direction:row; justify-content:space-around; align-items:center;\" onmouseover=\"this.style.backgroundColor='#BA9BF8'\" onmouseout=\"this.style.backgroundColor='#9D6CFF'\" onclick=\"window.commands?.execute('create-mitosheet-from-dataframe-output');\">See Full Dataframe in Mito</div> <script> if (window.commands?.hasCommand('create-mitosheet-from-dataframe-output')) document.getElementById('b5940426-31c7-4108-b579-d5872e70ee3c').style.display = 'flex' </script> <table border=\"1\" class=\"dataframe\">\n",
       "  <thead>\n",
       "    <tr style=\"text-align: right;\">\n",
       "      <th></th>\n",
       "      <th>Date_str</th>\n",
       "      <th>Open</th>\n",
       "      <th>High</th>\n",
       "      <th>Low</th>\n",
       "      <th>Close</th>\n",
       "      <th>Adj Close</th>\n",
       "      <th>Volume</th>\n",
       "    </tr>\n",
       "    <tr>\n",
       "      <th>Date</th>\n",
       "      <th></th>\n",
       "      <th></th>\n",
       "      <th></th>\n",
       "      <th></th>\n",
       "      <th></th>\n",
       "      <th></th>\n",
       "      <th></th>\n",
       "    </tr>\n",
       "  </thead>\n",
       "  <tbody>\n",
       "    <tr>\n",
       "      <th>1997-05-15 00:00:00-04:00</th>\n",
       "      <td>1997-05-15</td>\n",
       "      <td>0.121875</td>\n",
       "      <td>0.125000</td>\n",
       "      <td>0.096354</td>\n",
       "      <td>0.097917</td>\n",
       "      <td>0.097917</td>\n",
       "      <td>1443120000</td>\n",
       "    </tr>\n",
       "    <tr>\n",
       "      <th>1997-05-16 00:00:00-04:00</th>\n",
       "      <td>1997-05-16</td>\n",
       "      <td>0.098438</td>\n",
       "      <td>0.098958</td>\n",
       "      <td>0.085417</td>\n",
       "      <td>0.086458</td>\n",
       "      <td>0.086458</td>\n",
       "      <td>294000000</td>\n",
       "    </tr>\n",
       "    <tr>\n",
       "      <th>1997-05-19 00:00:00-04:00</th>\n",
       "      <td>1997-05-19</td>\n",
       "      <td>0.088021</td>\n",
       "      <td>0.088542</td>\n",
       "      <td>0.081250</td>\n",
       "      <td>0.085417</td>\n",
       "      <td>0.085417</td>\n",
       "      <td>122136000</td>\n",
       "    </tr>\n",
       "    <tr>\n",
       "      <th>1997-05-20 00:00:00-04:00</th>\n",
       "      <td>1997-05-20</td>\n",
       "      <td>0.086458</td>\n",
       "      <td>0.087500</td>\n",
       "      <td>0.081771</td>\n",
       "      <td>0.081771</td>\n",
       "      <td>0.081771</td>\n",
       "      <td>109344000</td>\n",
       "    </tr>\n",
       "    <tr>\n",
       "      <th>1997-05-21 00:00:00-04:00</th>\n",
       "      <td>1997-05-21</td>\n",
       "      <td>0.081771</td>\n",
       "      <td>0.082292</td>\n",
       "      <td>0.068750</td>\n",
       "      <td>0.071354</td>\n",
       "      <td>0.071354</td>\n",
       "      <td>377064000</td>\n",
       "    </tr>\n",
       "  </tbody>\n",
       "</table></div>"
      ],
      "text/plain": [
       "                             Date_str      Open      High       Low     Close  \\\n",
       "Date                                                                            \n",
       "1997-05-15 00:00:00-04:00  1997-05-15  0.121875  0.125000  0.096354  0.097917   \n",
       "1997-05-16 00:00:00-04:00  1997-05-16  0.098438  0.098958  0.085417  0.086458   \n",
       "1997-05-19 00:00:00-04:00  1997-05-19  0.088021  0.088542  0.081250  0.085417   \n",
       "1997-05-20 00:00:00-04:00  1997-05-20  0.086458  0.087500  0.081771  0.081771   \n",
       "1997-05-21 00:00:00-04:00  1997-05-21  0.081771  0.082292  0.068750  0.071354   \n",
       "\n",
       "                           Adj Close      Volume  \n",
       "Date                                              \n",
       "1997-05-15 00:00:00-04:00   0.097917  1443120000  \n",
       "1997-05-16 00:00:00-04:00   0.086458   294000000  \n",
       "1997-05-19 00:00:00-04:00   0.085417   122136000  \n",
       "1997-05-20 00:00:00-04:00   0.081771   109344000  \n",
       "1997-05-21 00:00:00-04:00   0.071354   377064000  "
      ]
     },
     "execution_count": 7,
     "metadata": {},
     "output_type": "execute_result"
    }
   ],
   "source": [
    "amz.head()"
   ]
  },
  {
   "cell_type": "code",
   "execution_count": 8,
   "metadata": {
    "colab": {
     "base_uri": "https://localhost:8080/"
    },
    "executionInfo": {
     "elapsed": 5,
     "status": "ok",
     "timestamp": 1643519655737,
     "user": {
      "displayName": "Wonyoung Choi",
      "photoUrl": "https://lh3.googleusercontent.com/a-/AOh14GhjFoQLJd5EdOeEwIzqDPHlKqZmX2G5i_kDz-wENA=s64",
      "userId": "04340733572966642717"
     },
     "user_tz": -540
    },
    "id": "7axiwZN9WbSc",
    "outputId": "9865347d-bbc5-4ba2-832b-3062811dec30"
   },
   "outputs": [
    {
     "data": {
      "text/plain": [
       "Date_str     False\n",
       "Open         False\n",
       "High         False\n",
       "Low          False\n",
       "Close        False\n",
       "Adj Close    False\n",
       "Volume       False\n",
       "dtype: bool"
      ]
     },
     "execution_count": 8,
     "metadata": {},
     "output_type": "execute_result"
    }
   ],
   "source": [
    "amz.isnull().any()"
   ]
  },
  {
   "cell_type": "code",
   "execution_count": 9,
   "metadata": {
    "executionInfo": {
     "elapsed": 3,
     "status": "ok",
     "timestamp": 1643519655737,
     "user": {
      "displayName": "Wonyoung Choi",
      "photoUrl": "https://lh3.googleusercontent.com/a-/AOh14GhjFoQLJd5EdOeEwIzqDPHlKqZmX2G5i_kDz-wENA=s64",
      "userId": "04340733572966642717"
     },
     "user_tz": -540
    },
    "id": "l2jYZZH_XJCk"
   },
   "outputs": [],
   "source": [
    "nvda.dropna(subset=['Adj Close'], inplace=True)"
   ]
  },
  {
   "cell_type": "code",
   "execution_count": 10,
   "metadata": {
    "colab": {
     "base_uri": "https://localhost:8080/",
     "height": 0
    },
    "executionInfo": {
     "elapsed": 592,
     "status": "ok",
     "timestamp": 1643519656326,
     "user": {
      "displayName": "Wonyoung Choi",
      "photoUrl": "https://lh3.googleusercontent.com/a-/AOh14GhjFoQLJd5EdOeEwIzqDPHlKqZmX2G5i_kDz-wENA=s64",
      "userId": "04340733572966642717"
     },
     "user_tz": -540
    },
    "id": "0_OV1OB6bxJE",
    "outputId": "52d1308b-5254-416e-a28a-cd9e761d7e4f"
   },
   "outputs": [
    {
     "data": {
      "text/plain": [
       "<Axes: xlabel='Date'>"
      ]
     },
     "execution_count": 10,
     "metadata": {},
     "output_type": "execute_result"
    },
    {
     "data": {
      "image/png": "[encoded data removed]",
      "text/plain": [
       "<Figure size 576x360 with 1 Axes>"
      ]
     },
     "metadata": {
      "needs_background": "light"
     },
     "output_type": "display_data"
    }
   ],
   "source": [
    "nvda_adj = nvda.loc[:, ['Adj Close']].copy()\n",
    "nvda_adj.plot(figsize=(8, 5))"
   ]
  },
  {
   "cell_type": "code",
   "execution_count": 11,
   "metadata": {
    "colab": {
     "base_uri": "https://localhost:8080/",
     "height": 0
    },
    "executionInfo": {
     "elapsed": 804,
     "status": "ok",
     "timestamp": 1643519657127,
     "user": {
      "displayName": "Wonyoung Choi",
      "photoUrl": "https://lh3.googleusercontent.com/a-/AOh14GhjFoQLJd5EdOeEwIzqDPHlKqZmX2G5i_kDz-wENA=s64",
      "userId": "04340733572966642717"
     },
     "user_tz": -540
    },
    "id": "njj5erjOQwd2",
    "outputId": "faa5b929-5af6-4060-dba8-72ff15569812"
   },
   "outputs": [
    {
     "data": {
      "text/plain": [
       "<Axes: xlabel='Date'>"
      ]
     },
     "execution_count": 11,
     "metadata": {},
     "output_type": "execute_result"
    },
    {
     "data": {
      "image/png": "[encoded data removed]",
      "text/plain": [
       "<Figure size 576x360 with 1 Axes>"
      ]
     },
     "metadata": {
      "needs_background": "light"
     },
     "output_type": "display_data"
    }
   ],
   "source": [
    "amz_adj = amz.loc[:, ['Adj Close']].copy()\n",
    "amz_adj.plot(figsize=(8, 5))"
   ]
  },
  {
   "cell_type": "code",
   "execution_count": 12,
   "metadata": {
    "colab": {
     "base_uri": "https://localhost:8080/",
     "height": 72
    },
    "executionInfo": {
     "elapsed": 1036,
     "status": "ok",
     "timestamp": 1643519658159,
     "user": {
      "displayName": "Wonyoung Choi",
      "photoUrl": "https://lh3.googleusercontent.com/a-/AOh14GhjFoQLJd5EdOeEwIzqDPHlKqZmX2G5i_kDz-wENA=s64",
      "userId": "04340733572966642717"
     },
     "user_tz": -540
    },
    "id": "dSfS4uDQby9U",
    "outputId": "7314142c-f09b-4502-cdbf-2650699711ea"
   },
   "outputs": [
    {
     "data": {
      "text/plain": [
       "<Axes: xlabel='Date'>"
      ]
     },
     "execution_count": 12,
     "metadata": {},
     "output_type": "execute_result"
    },
    {
     "data": {
      "image/png": "[encoded data removed]",
      "text/plain": [
       "<Figure size 576x360 with 1 Axes>"
      ]
     },
     "metadata": {
      "needs_background": "light"
     },
     "output_type": "display_data"
    }
   ],
   "source": [
    "from_date = '1997-01-03'\n",
    "to_date = '2003-01-03'\n",
    "nvda_adj.loc[from_date:to_date].plot(figsize=(8,5))"
   ]
  },
  {
   "cell_type": "code",
   "execution_count": 13,
   "metadata": {
    "colab": {
     "base_uri": "https://localhost:8080/",
     "height": 649
    },
    "executionInfo": {
     "elapsed": 16,
     "status": "ok",
     "timestamp": 1643519658159,
     "user": {
      "displayName": "Wonyoung Choi",
      "photoUrl": "https://lh3.googleusercontent.com/a-/AOh14GhjFoQLJd5EdOeEwIzqDPHlKqZmX2G5i_kDz-wENA=s64",
      "userId": "04340733572966642717"
     },
     "user_tz": -540
    },
    "id": "dFoGCB7ZAZ74",
    "outputId": "9a309e0f-cb69-4863-bfeb-6a899dfe2a63"
   },
   "outputs": [
    {
     "data": {
      "text/html": [
       "<div><div id=302d9201-177e-4a12-bd7e-c077369cc317 style=\"display:none; background-color:#9D6CFF; color:white; width:200px; height:30px; padding-left:5px; border-radius:4px; flex-direction:row; justify-content:space-around; align-items:center;\" onmouseover=\"this.style.backgroundColor='#BA9BF8'\" onmouseout=\"this.style.backgroundColor='#9D6CFF'\" onclick=\"window.commands?.execute('create-mitosheet-from-dataframe-output');\">See Full Dataframe in Mito</div> <script> if (window.commands?.hasCommand('create-mitosheet-from-dataframe-output')) document.getElementById('302d9201-177e-4a12-bd7e-c077369cc317').style.display = 'flex' </script> <table border=\"1\" class=\"dataframe\">\n",
       "  <thead>\n",
       "    <tr style=\"text-align: right;\">\n",
       "      <th></th>\n",
       "      <th>Adj Close</th>\n",
       "      <th>daily_rtn</th>\n",
       "    </tr>\n",
       "    <tr>\n",
       "      <th>Date</th>\n",
       "      <th></th>\n",
       "      <th></th>\n",
       "    </tr>\n",
       "  </thead>\n",
       "  <tbody>\n",
       "    <tr>\n",
       "      <th>1999-01-22 00:00:00-05:00</th>\n",
       "      <td>0.376358</td>\n",
       "      <td>NaN</td>\n",
       "    </tr>\n",
       "    <tr>\n",
       "      <th>1999-01-25 00:00:00-05:00</th>\n",
       "      <td>0.415786</td>\n",
       "      <td>0.104762</td>\n",
       "    </tr>\n",
       "    <tr>\n",
       "      <th>1999-01-26 00:00:00-05:00</th>\n",
       "      <td>0.383527</td>\n",
       "      <td>-0.077586</td>\n",
       "    </tr>\n",
       "    <tr>\n",
       "      <th>1999-01-27 00:00:00-05:00</th>\n",
       "      <td>0.382332</td>\n",
       "      <td>-0.003115</td>\n",
       "    </tr>\n",
       "    <tr>\n",
       "      <th>1999-01-28 00:00:00-05:00</th>\n",
       "      <td>0.381137</td>\n",
       "      <td>-0.003125</td>\n",
       "    </tr>\n",
       "    <tr>\n",
       "      <th>1999-01-29 00:00:00-05:00</th>\n",
       "      <td>0.363215</td>\n",
       "      <td>-0.047023</td>\n",
       "    </tr>\n",
       "    <tr>\n",
       "      <th>1999-02-01 00:00:00-05:00</th>\n",
       "      <td>0.370384</td>\n",
       "      <td>0.019738</td>\n",
       "    </tr>\n",
       "    <tr>\n",
       "      <th>1999-02-02 00:00:00-05:00</th>\n",
       "      <td>0.341709</td>\n",
       "      <td>-0.077419</td>\n",
       "    </tr>\n",
       "    <tr>\n",
       "      <th>1999-02-03 00:00:00-05:00</th>\n",
       "      <td>0.348877</td>\n",
       "      <td>0.020978</td>\n",
       "    </tr>\n",
       "    <tr>\n",
       "      <th>1999-02-04 00:00:00-05:00</th>\n",
       "      <td>0.367995</td>\n",
       "      <td>0.054796</td>\n",
       "    </tr>\n",
       "  </tbody>\n",
       "</table></div>"
      ],
      "text/plain": [
       "                           Adj Close  daily_rtn\n",
       "Date                                           \n",
       "1999-01-22 00:00:00-05:00   0.376358        NaN\n",
       "1999-01-25 00:00:00-05:00   0.415786   0.104762\n",
       "1999-01-26 00:00:00-05:00   0.383527  -0.077586\n",
       "1999-01-27 00:00:00-05:00   0.382332  -0.003115\n",
       "1999-01-28 00:00:00-05:00   0.381137  -0.003125\n",
       "1999-01-29 00:00:00-05:00   0.363215  -0.047023\n",
       "1999-02-01 00:00:00-05:00   0.370384   0.019738\n",
       "1999-02-02 00:00:00-05:00   0.341709  -0.077419\n",
       "1999-02-03 00:00:00-05:00   0.348877   0.020978\n",
       "1999-02-04 00:00:00-05:00   0.367995   0.054796"
      ]
     },
     "execution_count": 13,
     "metadata": {},
     "output_type": "execute_result"
    }
   ],
   "source": [
    "# 일별 수익률 계산\n",
    "nvda_adj['daily_rtn'] = nvda_adj['Adj Close'].pct_change()\n",
    "nvda_adj.head(10)"
   ]
  },
  {
   "cell_type": "code",
   "execution_count": 14,
   "metadata": {
    "colab": {
     "base_uri": "https://localhost:8080/",
     "height": 649
    },
    "executionInfo": {
     "elapsed": 14,
     "status": "ok",
     "timestamp": 1643519658159,
     "user": {
      "displayName": "Wonyoung Choi",
      "photoUrl": "https://lh3.googleusercontent.com/a-/AOh14GhjFoQLJd5EdOeEwIzqDPHlKqZmX2G5i_kDz-wENA=s64",
      "userId": "04340733572966642717"
     },
     "user_tz": -540
    },
    "id": "wvjmz67GQ55K",
    "outputId": "6f058f7e-b796-4a5a-f535-ad6083f10c60"
   },
   "outputs": [
    {
     "data": {
      "text/html": [
       "<div><div id=3dc263fc-8fa2-42f7-a4a9-dc2c13f7d115 style=\"display:none; background-color:#9D6CFF; color:white; width:200px; height:30px; padding-left:5px; border-radius:4px; flex-direction:row; justify-content:space-around; align-items:center;\" onmouseover=\"this.style.backgroundColor='#BA9BF8'\" onmouseout=\"this.style.backgroundColor='#9D6CFF'\" onclick=\"window.commands?.execute('create-mitosheet-from-dataframe-output');\">See Full Dataframe in Mito</div> <script> if (window.commands?.hasCommand('create-mitosheet-from-dataframe-output')) document.getElementById('3dc263fc-8fa2-42f7-a4a9-dc2c13f7d115').style.display = 'flex' </script> <table border=\"1\" class=\"dataframe\">\n",
       "  <thead>\n",
       "    <tr style=\"text-align: right;\">\n",
       "      <th></th>\n",
       "      <th>Adj Close</th>\n",
       "      <th>daily_rtn</th>\n",
       "    </tr>\n",
       "    <tr>\n",
       "      <th>Date</th>\n",
       "      <th></th>\n",
       "      <th></th>\n",
       "    </tr>\n",
       "  </thead>\n",
       "  <tbody>\n",
       "    <tr>\n",
       "      <th>1997-05-15 00:00:00-04:00</th>\n",
       "      <td>0.097917</td>\n",
       "      <td>NaN</td>\n",
       "    </tr>\n",
       "    <tr>\n",
       "      <th>1997-05-16 00:00:00-04:00</th>\n",
       "      <td>0.086458</td>\n",
       "      <td>-0.117028</td>\n",
       "    </tr>\n",
       "    <tr>\n",
       "      <th>1997-05-19 00:00:00-04:00</th>\n",
       "      <td>0.085417</td>\n",
       "      <td>-0.012040</td>\n",
       "    </tr>\n",
       "    <tr>\n",
       "      <th>1997-05-20 00:00:00-04:00</th>\n",
       "      <td>0.081771</td>\n",
       "      <td>-0.042685</td>\n",
       "    </tr>\n",
       "    <tr>\n",
       "      <th>1997-05-21 00:00:00-04:00</th>\n",
       "      <td>0.071354</td>\n",
       "      <td>-0.127392</td>\n",
       "    </tr>\n",
       "    <tr>\n",
       "      <th>1997-05-22 00:00:00-04:00</th>\n",
       "      <td>0.069792</td>\n",
       "      <td>-0.021891</td>\n",
       "    </tr>\n",
       "    <tr>\n",
       "      <th>1997-05-23 00:00:00-04:00</th>\n",
       "      <td>0.075000</td>\n",
       "      <td>0.074622</td>\n",
       "    </tr>\n",
       "    <tr>\n",
       "      <th>1997-05-27 00:00:00-04:00</th>\n",
       "      <td>0.079167</td>\n",
       "      <td>0.055560</td>\n",
       "    </tr>\n",
       "    <tr>\n",
       "      <th>1997-05-28 00:00:00-04:00</th>\n",
       "      <td>0.076563</td>\n",
       "      <td>-0.032892</td>\n",
       "    </tr>\n",
       "    <tr>\n",
       "      <th>1997-05-29 00:00:00-04:00</th>\n",
       "      <td>0.075260</td>\n",
       "      <td>-0.017019</td>\n",
       "    </tr>\n",
       "  </tbody>\n",
       "</table></div>"
      ],
      "text/plain": [
       "                           Adj Close  daily_rtn\n",
       "Date                                           \n",
       "1997-05-15 00:00:00-04:00   0.097917        NaN\n",
       "1997-05-16 00:00:00-04:00   0.086458  -0.117028\n",
       "1997-05-19 00:00:00-04:00   0.085417  -0.012040\n",
       "1997-05-20 00:00:00-04:00   0.081771  -0.042685\n",
       "1997-05-21 00:00:00-04:00   0.071354  -0.127392\n",
       "1997-05-22 00:00:00-04:00   0.069792  -0.021891\n",
       "1997-05-23 00:00:00-04:00   0.075000   0.074622\n",
       "1997-05-27 00:00:00-04:00   0.079167   0.055560\n",
       "1997-05-28 00:00:00-04:00   0.076563  -0.032892\n",
       "1997-05-29 00:00:00-04:00   0.075260  -0.017019"
      ]
     },
     "execution_count": 14,
     "metadata": {},
     "output_type": "execute_result"
    }
   ],
   "source": [
    "amz_adj['daily_rtn'] = amz_adj['Adj Close'].pct_change()\n",
    "amz_adj.head(10)"
   ]
  },
  {
   "cell_type": "code",
   "execution_count": 15,
   "metadata": {
    "colab": {
     "base_uri": "https://localhost:8080/",
     "height": 632
    },
    "executionInfo": {
     "elapsed": 14,
     "status": "ok",
     "timestamp": 1643519658160,
     "user": {
      "displayName": "Wonyoung Choi",
      "photoUrl": "https://lh3.googleusercontent.com/a-/AOh14GhjFoQLJd5EdOeEwIzqDPHlKqZmX2G5i_kDz-wENA=s64",
      "userId": "04340733572966642717"
     },
     "user_tz": -540
    },
    "id": "4gDyGrHpAucS",
    "outputId": "ff0d37f8-a7c1-492e-f6e7-b36ce9071933"
   },
   "outputs": [
    {
     "data": {
      "text/html": [
       "<div><div id=db89753e-e379-4768-a37e-f2e8e2f7dc8a style=\"display:none; background-color:#9D6CFF; color:white; width:200px; height:30px; padding-left:5px; border-radius:4px; flex-direction:row; justify-content:space-around; align-items:center;\" onmouseover=\"this.style.backgroundColor='#BA9BF8'\" onmouseout=\"this.style.backgroundColor='#9D6CFF'\" onclick=\"window.commands?.execute('create-mitosheet-from-dataframe-output');\">See Full Dataframe in Mito</div> <script> if (window.commands?.hasCommand('create-mitosheet-from-dataframe-output')) document.getElementById('db89753e-e379-4768-a37e-f2e8e2f7dc8a').style.display = 'flex' </script> <table border=\"1\" class=\"dataframe\">\n",
       "  <thead>\n",
       "    <tr style=\"text-align: right;\">\n",
       "      <th></th>\n",
       "      <th>Adj Close</th>\n",
       "      <th>daily_rtn</th>\n",
       "      <th>st_rtn</th>\n",
       "    </tr>\n",
       "    <tr>\n",
       "      <th>Date</th>\n",
       "      <th></th>\n",
       "      <th></th>\n",
       "      <th></th>\n",
       "    </tr>\n",
       "  </thead>\n",
       "  <tbody>\n",
       "    <tr>\n",
       "      <th>2023-05-22 00:00:00-04:00</th>\n",
       "      <td>311.760010</td>\n",
       "      <td>-0.002815</td>\n",
       "      <td>828.360842</td>\n",
       "    </tr>\n",
       "    <tr>\n",
       "      <th>2023-05-23 00:00:00-04:00</th>\n",
       "      <td>306.880005</td>\n",
       "      <td>-0.015653</td>\n",
       "      <td>815.394443</td>\n",
       "    </tr>\n",
       "    <tr>\n",
       "      <th>2023-05-24 00:00:00-04:00</th>\n",
       "      <td>305.380005</td>\n",
       "      <td>-0.004888</td>\n",
       "      <td>811.408873</td>\n",
       "    </tr>\n",
       "    <tr>\n",
       "      <th>2023-05-25 00:00:00-04:00</th>\n",
       "      <td>379.799988</td>\n",
       "      <td>0.243696</td>\n",
       "      <td>1009.146228</td>\n",
       "    </tr>\n",
       "    <tr>\n",
       "      <th>2023-05-26 00:00:00-04:00</th>\n",
       "      <td>389.459991</td>\n",
       "      <td>0.025434</td>\n",
       "      <td>1034.813307</td>\n",
       "    </tr>\n",
       "    <tr>\n",
       "      <th>2023-05-30 00:00:00-04:00</th>\n",
       "      <td>401.109985</td>\n",
       "      <td>0.029913</td>\n",
       "      <td>1065.767882</td>\n",
       "    </tr>\n",
       "    <tr>\n",
       "      <th>2023-05-31 00:00:00-04:00</th>\n",
       "      <td>378.339996</td>\n",
       "      <td>-0.056767</td>\n",
       "      <td>1005.266963</td>\n",
       "    </tr>\n",
       "    <tr>\n",
       "      <th>2023-06-01 00:00:00-04:00</th>\n",
       "      <td>397.700012</td>\n",
       "      <td>0.051171</td>\n",
       "      <td>1056.707425</td>\n",
       "    </tr>\n",
       "    <tr>\n",
       "      <th>2023-06-02 00:00:00-04:00</th>\n",
       "      <td>393.269989</td>\n",
       "      <td>-0.011139</td>\n",
       "      <td>1044.936647</td>\n",
       "    </tr>\n",
       "    <tr>\n",
       "      <th>2023-06-05 00:00:00-04:00</th>\n",
       "      <td>391.709991</td>\n",
       "      <td>-0.003967</td>\n",
       "      <td>1040.791661</td>\n",
       "    </tr>\n",
       "  </tbody>\n",
       "</table></div>"
      ],
      "text/plain": [
       "                            Adj Close  daily_rtn       st_rtn\n",
       "Date                                                         \n",
       "2023-05-22 00:00:00-04:00  311.760010  -0.002815   828.360842\n",
       "2023-05-23 00:00:00-04:00  306.880005  -0.015653   815.394443\n",
       "2023-05-24 00:00:00-04:00  305.380005  -0.004888   811.408873\n",
       "2023-05-25 00:00:00-04:00  379.799988   0.243696  1009.146228\n",
       "2023-05-26 00:00:00-04:00  389.459991   0.025434  1034.813307\n",
       "2023-05-30 00:00:00-04:00  401.109985   0.029913  1065.767882\n",
       "2023-05-31 00:00:00-04:00  378.339996  -0.056767  1005.266963\n",
       "2023-06-01 00:00:00-04:00  397.700012   0.051171  1056.707425\n",
       "2023-06-02 00:00:00-04:00  393.269989  -0.011139  1044.936647\n",
       "2023-06-05 00:00:00-04:00  391.709991  -0.003967  1040.791661"
      ]
     },
     "execution_count": 15,
     "metadata": {},
     "output_type": "execute_result"
    }
   ],
   "source": [
    "# 누적 곱 계산\n",
    "nvda_adj['st_rtn'] = (1+nvda_adj['daily_rtn']).cumprod()\n",
    "nvda_adj.tail(10)"
   ]
  },
  {
   "cell_type": "code",
   "execution_count": 16,
   "metadata": {
    "colab": {
     "base_uri": "https://localhost:8080/",
     "height": 632
    },
    "executionInfo": {
     "elapsed": 14,
     "status": "ok",
     "timestamp": 1643519658160,
     "user": {
      "displayName": "Wonyoung Choi",
      "photoUrl": "https://lh3.googleusercontent.com/a-/AOh14GhjFoQLJd5EdOeEwIzqDPHlKqZmX2G5i_kDz-wENA=s64",
      "userId": "04340733572966642717"
     },
     "user_tz": -540
    },
    "id": "UcidYgMZQ92Z",
    "outputId": "9d5c5104-12ed-44e3-9da5-a4ef0b13c07c"
   },
   "outputs": [
    {
     "data": {
      "text/html": [
       "<div><div id=bbbc5fcc-e907-4545-932d-864ca04170dd style=\"display:none; background-color:#9D6CFF; color:white; width:200px; height:30px; padding-left:5px; border-radius:4px; flex-direction:row; justify-content:space-around; align-items:center;\" onmouseover=\"this.style.backgroundColor='#BA9BF8'\" onmouseout=\"this.style.backgroundColor='#9D6CFF'\" onclick=\"window.commands?.execute('create-mitosheet-from-dataframe-output');\">See Full Dataframe in Mito</div> <script> if (window.commands?.hasCommand('create-mitosheet-from-dataframe-output')) document.getElementById('bbbc5fcc-e907-4545-932d-864ca04170dd').style.display = 'flex' </script> <table border=\"1\" class=\"dataframe\">\n",
       "  <thead>\n",
       "    <tr style=\"text-align: right;\">\n",
       "      <th></th>\n",
       "      <th>Adj Close</th>\n",
       "      <th>daily_rtn</th>\n",
       "      <th>st_rtn</th>\n",
       "    </tr>\n",
       "    <tr>\n",
       "      <th>Date</th>\n",
       "      <th></th>\n",
       "      <th></th>\n",
       "      <th></th>\n",
       "    </tr>\n",
       "  </thead>\n",
       "  <tbody>\n",
       "    <tr>\n",
       "      <th>2023-05-22 00:00:00-04:00</th>\n",
       "      <td>115.010002</td>\n",
       "      <td>-0.010667</td>\n",
       "      <td>1174.566260</td>\n",
       "    </tr>\n",
       "    <tr>\n",
       "      <th>2023-05-23 00:00:00-04:00</th>\n",
       "      <td>114.989998</td>\n",
       "      <td>-0.000174</td>\n",
       "      <td>1174.361962</td>\n",
       "    </tr>\n",
       "    <tr>\n",
       "      <th>2023-05-24 00:00:00-04:00</th>\n",
       "      <td>116.750000</td>\n",
       "      <td>0.015306</td>\n",
       "      <td>1192.336391</td>\n",
       "    </tr>\n",
       "    <tr>\n",
       "      <th>2023-05-25 00:00:00-04:00</th>\n",
       "      <td>115.000000</td>\n",
       "      <td>-0.014989</td>\n",
       "      <td>1174.464111</td>\n",
       "    </tr>\n",
       "    <tr>\n",
       "      <th>2023-05-26 00:00:00-04:00</th>\n",
       "      <td>120.110001</td>\n",
       "      <td>0.044435</td>\n",
       "      <td>1226.651175</td>\n",
       "    </tr>\n",
       "    <tr>\n",
       "      <th>2023-05-30 00:00:00-04:00</th>\n",
       "      <td>121.660004</td>\n",
       "      <td>0.012905</td>\n",
       "      <td>1242.480940</td>\n",
       "    </tr>\n",
       "    <tr>\n",
       "      <th>2023-05-31 00:00:00-04:00</th>\n",
       "      <td>120.580002</td>\n",
       "      <td>-0.008877</td>\n",
       "      <td>1231.451171</td>\n",
       "    </tr>\n",
       "    <tr>\n",
       "      <th>2023-06-01 00:00:00-04:00</th>\n",
       "      <td>122.769997</td>\n",
       "      <td>0.018162</td>\n",
       "      <td>1253.817000</td>\n",
       "    </tr>\n",
       "    <tr>\n",
       "      <th>2023-06-02 00:00:00-04:00</th>\n",
       "      <td>124.250000</td>\n",
       "      <td>0.012055</td>\n",
       "      <td>1268.931877</td>\n",
       "    </tr>\n",
       "    <tr>\n",
       "      <th>2023-06-05 00:00:00-04:00</th>\n",
       "      <td>125.300003</td>\n",
       "      <td>0.008451</td>\n",
       "      <td>1279.655276</td>\n",
       "    </tr>\n",
       "  </tbody>\n",
       "</table></div>"
      ],
      "text/plain": [
       "                            Adj Close  daily_rtn       st_rtn\n",
       "Date                                                         \n",
       "2023-05-22 00:00:00-04:00  115.010002  -0.010667  1174.566260\n",
       "2023-05-23 00:00:00-04:00  114.989998  -0.000174  1174.361962\n",
       "2023-05-24 00:00:00-04:00  116.750000   0.015306  1192.336391\n",
       "2023-05-25 00:00:00-04:00  115.000000  -0.014989  1174.464111\n",
       "2023-05-26 00:00:00-04:00  120.110001   0.044435  1226.651175\n",
       "2023-05-30 00:00:00-04:00  121.660004   0.012905  1242.480940\n",
       "2023-05-31 00:00:00-04:00  120.580002  -0.008877  1231.451171\n",
       "2023-06-01 00:00:00-04:00  122.769997   0.018162  1253.817000\n",
       "2023-06-02 00:00:00-04:00  124.250000   0.012055  1268.931877\n",
       "2023-06-05 00:00:00-04:00  125.300003   0.008451  1279.655276"
      ]
     },
     "execution_count": 16,
     "metadata": {},
     "output_type": "execute_result"
    }
   ],
   "source": [
    "amz_adj['st_rtn'] = (1+amz_adj['daily_rtn']).cumprod()\n",
    "amz_adj.tail(10)"
   ]
  },
  {
   "cell_type": "code",
   "execution_count": 17,
   "metadata": {
    "colab": {
     "base_uri": "https://localhost:8080/",
     "height": 335
    },
    "executionInfo": {
     "elapsed": 13,
     "status": "ok",
     "timestamp": 1643519658160,
     "user": {
      "displayName": "Wonyoung Choi",
      "photoUrl": "https://lh3.googleusercontent.com/a-/AOh14GhjFoQLJd5EdOeEwIzqDPHlKqZmX2G5i_kDz-wENA=s64",
      "userId": "04340733572966642717"
     },
     "user_tz": -540
    },
    "id": "NyRI-1cXBMIb",
    "outputId": "ed2c2347-39ff-4021-ccc8-39ad23715167"
   },
   "outputs": [
    {
     "data": {
      "text/plain": [
       "<Axes: xlabel='Date'>"
      ]
     },
     "execution_count": 17,
     "metadata": {},
     "output_type": "execute_result"
    },
    {
     "data": {
      "image/png": "[encoded data removed]",
      "text/plain": [
       "<Figure size 576x360 with 1 Axes>"
      ]
     },
     "metadata": {
      "needs_background": "light"
     },
     "output_type": "display_data"
    }
   ],
   "source": [
    "nvda_adj['st_rtn'].plot(figsize=(8,5))"
   ]
  },
  {
   "cell_type": "code",
   "execution_count": 18,
   "metadata": {
    "colab": {
     "base_uri": "https://localhost:8080/",
     "height": 339
    },
    "executionInfo": {
     "elapsed": 12,
     "status": "ok",
     "timestamp": 1643519658161,
     "user": {
      "displayName": "Wonyoung Choi",
      "photoUrl": "https://lh3.googleusercontent.com/a-/AOh14GhjFoQLJd5EdOeEwIzqDPHlKqZmX2G5i_kDz-wENA=s64",
      "userId": "04340733572966642717"
     },
     "user_tz": -540
    },
    "id": "T1DK-L1_XclX",
    "outputId": "00e034eb-6ef7-47ac-b58f-b17441943286"
   },
   "outputs": [
    {
     "data": {
      "text/plain": [
       "<Axes: xlabel='Date'>"
      ]
     },
     "execution_count": 18,
     "metadata": {},
     "output_type": "execute_result"
    },
    {
     "data": {
      "image/png": "[encoded data removed]",
      "text/plain": [
       "<Figure size 576x360 with 1 Axes>"
      ]
     },
     "metadata": {
      "needs_background": "light"
     },
     "output_type": "display_data"
    }
   ],
   "source": [
    "amz_adj['st_rtn'].plot(figsize=(8,5))"
   ]
  },
  {
   "cell_type": "code",
   "execution_count": 19,
   "metadata": {
    "executionInfo": {
     "elapsed": 10,
     "status": "ok",
     "timestamp": 1643519658161,
     "user": {
      "displayName": "Wonyoung Choi",
      "photoUrl": "https://lh3.googleusercontent.com/a-/AOh14GhjFoQLJd5EdOeEwIzqDPHlKqZmX2G5i_kDz-wENA=s64",
      "userId": "04340733572966642717"
     },
     "user_tz": -540
    },
    "id": "D-CRlSSfXeOQ"
   },
   "outputs": [],
   "source": [
    "base_date = '2012-01-30'\n",
    "\n",
    "nvda_tmp = nvda_adj.loc[base_date:, ['st_rtn']] / nvda_adj.loc[base_date, ['st_rtn']]\n",
    "amz_tmp = amz_adj.loc[base_date:, ['st_rtn']] / amz_adj.loc[base_date, ['st_rtn']]"
   ]
  },
  {
   "cell_type": "code",
   "execution_count": 20,
   "metadata": {
    "colab": {
     "base_uri": "https://localhost:8080/",
     "height": 89
    },
    "executionInfo": {
     "elapsed": 723,
     "status": "ok",
     "timestamp": 1643519658874,
     "user": {
      "displayName": "Wonyoung Choi",
      "photoUrl": "https://lh3.googleusercontent.com/a-/AOh14GhjFoQLJd5EdOeEwIzqDPHlKqZmX2G5i_kDz-wENA=s64",
      "userId": "04340733572966642717"
     },
     "user_tz": -540
    },
    "id": "OvT2n9TAaZhp",
    "outputId": "c195b94f-cc1b-41af-92fe-64d146b080fd"
   },
   "outputs": [
    {
     "name": "stdout",
     "output_type": "stream",
     "text": [
      "엔비디아 누적 수익:  115.37487416704411\n"
     ]
    },
    {
     "data": {
      "text/plain": [
       "<Axes: xlabel='Date'>"
      ]
     },
     "execution_count": 20,
     "metadata": {},
     "output_type": "execute_result"
    },
    {
     "data": {
      "image/png": "[encoded data removed]",
      "text/plain": [
       "<Figure size 576x360 with 1 Axes>"
      ]
     },
     "metadata": {
      "needs_background": "light"
     },
     "output_type": "display_data"
    }
   ],
   "source": [
    "print('엔비디아 누적 수익: ', nvda_tmp.loc[nvda_tmp.index[-1], 'st_rtn'])\n",
    "nvda_tmp.plot(figsize=(8, 5))"
   ]
  },
  {
   "cell_type": "code",
   "execution_count": 21,
   "metadata": {
    "colab": {
     "base_uri": "https://localhost:8080/",
     "height": 89
    },
    "executionInfo": {
     "elapsed": 10,
     "status": "ok",
     "timestamp": 1643519658874,
     "user": {
      "displayName": "Wonyoung Choi",
      "photoUrl": "https://lh3.googleusercontent.com/a-/AOh14GhjFoQLJd5EdOeEwIzqDPHlKqZmX2G5i_kDz-wENA=s64",
      "userId": "04340733572966642717"
     },
     "user_tz": -540
    },
    "id": "0ryVcpZpaVc8",
    "outputId": "8642aa72-03ed-46b6-97ee-7cd7a258b63c"
   },
   "outputs": [
    {
     "name": "stdout",
     "output_type": "stream",
     "text": [
      "아마존 누적 수익:  13.041894567446283\n"
     ]
    },
    {
     "data": {
      "text/plain": [
       "<Axes: xlabel='Date'>"
      ]
     },
     "execution_count": 21,
     "metadata": {},
     "output_type": "execute_result"
    },
    {
     "data": {
      "image/png": "[encoded data removed]",
      "text/plain": [
       "<Figure size 576x360 with 1 Axes>"
      ]
     },
     "metadata": {
      "needs_background": "light"
     },
     "output_type": "display_data"
    }
   ],
   "source": [
    "print('아마존 누적 수익: ', amz_tmp.loc[amz_tmp.index[-1], 'st_rtn'])\n",
    "amz_tmp.plot(figsize=(8, 5))"
   ]
  },
  {
   "cell_type": "code",
   "execution_count": 22,
   "metadata": {
    "colab": {
     "base_uri": "https://localhost:8080/"
    },
    "executionInfo": {
     "elapsed": 8,
     "status": "ok",
     "timestamp": 1643519658875,
     "user": {
      "displayName": "Wonyoung Choi",
      "photoUrl": "https://lh3.googleusercontent.com/a-/AOh14GhjFoQLJd5EdOeEwIzqDPHlKqZmX2G5i_kDz-wENA=s64",
      "userId": "04340733572966642717"
     },
     "user_tz": -540
    },
    "id": "Fx08mYmgaiPQ",
    "outputId": "2fff5ad1-2eff-4bcf-e4fc-da41e149a30c"
   },
   "outputs": [
    {
     "name": "stdout",
     "output_type": "stream",
     "text": [
      "0.3304582541483916\n",
      "0.3164744957740908\n"
     ]
    }
   ],
   "source": [
    "## 연평균 복리 수익률(CAGR)\n",
    "# 수익률 성과를 분석할 때는 산술평균 수익률보다 기하평균 수익률을 더 선호\n",
    "# => 기하평균 수익률이 복리 성질과 주가 변동이 심한 때에 따라 변동성을 표현하기 때문\n",
    "\n",
    "## CAGR을 파이썬으로 구현\n",
    "# 마지막 일자의 최종 누적 수익률의 누적 연도 제곱근을 구하는 것\n",
    "# 일(Day) 데이터를 사용했으므로 전체 연도를 구하기 위해 전체 데이터 기간을 252로 나눈 역수를 제곱(a**b) 연산 후 -1을 하면 수익률이 나온다.\n",
    "# => 금융공학에서 1년은 252 영업일로 계산\n",
    "\n",
    "nvda_cagr = nvda_adj.loc[nvda_adj.index[-1], 'st_rtn'] ** (252./len(nvda_adj.index)) -1\n",
    "print(nvda_cagr)\n",
    "\n",
    "amz_cagr = amz_adj.loc[amz_adj.index[-1], 'st_rtn'] ** (252./len(amz_adj.index)) -1\n",
    "print(amz_cagr)"
   ]
  },
  {
   "cell_type": "code",
   "execution_count": 23,
   "metadata": {
    "executionInfo": {
     "elapsed": 7,
     "status": "ok",
     "timestamp": 1643519658875,
     "user": {
      "displayName": "Wonyoung Choi",
      "photoUrl": "https://lh3.googleusercontent.com/a-/AOh14GhjFoQLJd5EdOeEwIzqDPHlKqZmX2G5i_kDz-wENA=s64",
      "userId": "04340733572966642717"
     },
     "user_tz": -540
    },
    "id": "HjU_ZZ3Tmfy1"
   },
   "outputs": [],
   "source": [
    "## 최대 낙폭(MDD)\n",
    "# 최대 낙폭은 투자 기간에 고점부터 저점까지 떨어진 낙폭 중 최댓값을 의미\n",
    "# => 투자자가 겪을 수 있는 최대 고통을 측정하는 지표로 사용되며, 낮을수록 좋다.\n",
    "\n",
    "## MDD를 파이썬으로 구현\n",
    "# 수정 종가에 cummax() 함수 값(누적 최댓값)을 저장한다. \n",
    "# 전체의 최댓값이 아닌 행별로 진행하면서 누적 값을 갱신\n",
    "# 현재 수정 종가에서 누적 최댓값 대비 낙폭률을 계산하고 cummin() 함수를 사용해 최대 하락률을 계산\n",
    "\n",
    "nvda_historical_max = nvda_adj['Adj Close'].cummax()\n",
    "nvda_daily_drawdown = nvda_adj['Adj Close'] / nvda_historical_max - 1.0\n",
    "nvda_historical_dd = nvda_daily_drawdown.cummin()\n",
    "\n",
    "amz_historical_max = amz_adj['Adj Close'].cummax()\n",
    "amz_daily_drawdown = amz_adj['Adj Close'] / amz_historical_max - 1.0\n",
    "amz_historical_dd = amz_daily_drawdown.cummin()"
   ]
  },
  {
   "cell_type": "code",
   "execution_count": 24,
   "metadata": {
    "colab": {
     "base_uri": "https://localhost:8080/",
     "height": 72
    },
    "executionInfo": {
     "elapsed": 7,
     "status": "ok",
     "timestamp": 1643519658875,
     "user": {
      "displayName": "Wonyoung Choi",
      "photoUrl": "https://lh3.googleusercontent.com/a-/AOh14GhjFoQLJd5EdOeEwIzqDPHlKqZmX2G5i_kDz-wENA=s64",
      "userId": "04340733572966642717"
     },
     "user_tz": -540
    },
    "id": "Z5-h49VEojeG",
    "outputId": "1a06252f-aaca-4056-8198-a5856c3c793c"
   },
   "outputs": [
    {
     "data": {
      "text/plain": [
       "<Axes: xlabel='Date'>"
      ]
     },
     "execution_count": 24,
     "metadata": {},
     "output_type": "execute_result"
    },
    {
     "data": {
      "image/png": "[encoded data removed]",
      "text/plain": [
       "<Figure size 432x288 with 1 Axes>"
      ]
     },
     "metadata": {
      "needs_background": "light"
     },
     "output_type": "display_data"
    }
   ],
   "source": [
    "nvda_historical_dd.plot()"
   ]
  },
  {
   "cell_type": "code",
   "execution_count": 25,
   "metadata": {
    "colab": {
     "base_uri": "https://localhost:8080/",
     "height": 72
    },
    "executionInfo": {
     "elapsed": 748,
     "status": "ok",
     "timestamp": 1643519659618,
     "user": {
      "displayName": "Wonyoung Choi",
      "photoUrl": "https://lh3.googleusercontent.com/a-/AOh14GhjFoQLJd5EdOeEwIzqDPHlKqZmX2G5i_kDz-wENA=s64",
      "userId": "04340733572966642717"
     },
     "user_tz": -540
    },
    "id": "7SzFhP1fompG",
    "outputId": "28573f0d-c705-4b55-f1b2-5a80b9270fbf"
   },
   "outputs": [
    {
     "data": {
      "text/plain": [
       "<Axes: xlabel='Date'>"
      ]
     },
     "execution_count": 25,
     "metadata": {},
     "output_type": "execute_result"
    },
    {
     "data": {
      "image/png": "[encoded data removed]",
      "text/plain": [
       "<Figure size 432x288 with 1 Axes>"
      ]
     },
     "metadata": {
      "needs_background": "light"
     },
     "output_type": "display_data"
    }
   ],
   "source": [
    "amz_historical_dd.plot()"
   ]
  },
  {
   "cell_type": "code",
   "execution_count": 26,
   "metadata": {
    "colab": {
     "base_uri": "https://localhost:8080/"
    },
    "executionInfo": {
     "elapsed": 10,
     "status": "ok",
     "timestamp": 1643519659619,
     "user": {
      "displayName": "Wonyoung Choi",
      "photoUrl": "https://lh3.googleusercontent.com/a-/AOh14GhjFoQLJd5EdOeEwIzqDPHlKqZmX2G5i_kDz-wENA=s64",
      "userId": "04340733572966642717"
     },
     "user_tz": -540
    },
    "id": "6NPNc1-koobG",
    "outputId": "caf979fe-758d-4dac-addb-e2a7ab23cb53"
   },
   "outputs": [
    {
     "name": "stdout",
     "output_type": "stream",
     "text": [
      "0.6069148651352261\n",
      "0.5717047779483306\n"
     ]
    }
   ],
   "source": [
    "## 변동성(Vol)\n",
    "# 여러 종류의 변동성 중 주가 변화 수익률 관점의 변동성을 확인\n",
    "# 변동성은 금융 자산의 방향성에 대한 불확실성과 가격 등락에 대한 위험 예상 지표로 해석\n",
    "\n",
    "## 변동성(Vol)을 파이썬으로 구현\n",
    "# 수익률의 표준 편차로 계산\n",
    "# 일(Day) 단위 변동성을 의미\n",
    "# => 루이 바슐리에의 '투기이론'에서 주가의 변동폭은 시간의 제곱근에 비례한다는 연구 결과에 따라, 일 단위 변동성을 연율화할 때 252의 제곱근을 곱한다.\n",
    "\n",
    "nvda_vol = np.std(nvda_adj['daily_rtn']) * np.sqrt(252.)\n",
    "print(nvda_vol)\n",
    "\n",
    "amz_vol = np.std(amz_adj['daily_rtn']) * np.sqrt(252.)\n",
    "print(amz_vol)"
   ]
  },
  {
   "cell_type": "code",
   "execution_count": 27,
   "metadata": {
    "colab": {
     "base_uri": "https://localhost:8080/"
    },
    "executionInfo": {
     "elapsed": 8,
     "status": "ok",
     "timestamp": 1643519659619,
     "user": {
      "displayName": "Wonyoung Choi",
      "photoUrl": "https://lh3.googleusercontent.com/a-/AOh14GhjFoQLJd5EdOeEwIzqDPHlKqZmX2G5i_kDz-wENA=s64",
      "userId": "04340733572966642717"
     },
     "user_tz": -540
    },
    "id": "u7ttbmEVqC9H",
    "outputId": "c78f4924-7a32-43a3-f9d1-279ec8e0a94f"
   },
   "outputs": [
    {
     "name": "stdout",
     "output_type": "stream",
     "text": [
      "0.7719651862400062\n",
      "0.7617378457150838\n"
     ]
    }
   ],
   "source": [
    "## 샤프 지수\n",
    "# 위험 대비 수익성 지표\n",
    "\n",
    "## 샤프 지수를 파이썬으로 구현\n",
    "# 사후적 샤프 비율(Ex-post Sharpe ratio)를 사용\n",
    "# => 실현 수익률의 산술평균 / 실현 수익률의 변동성으로 계산\n",
    "# 넘파이의 평균을 구하는 함수와 연율화 변동성을 활용해 위험 대비 수익성 지표를 계산\n",
    "\n",
    "nvda_sharpe = np.mean(nvda_adj['daily_rtn']) / np.std(nvda_adj['daily_rtn']) * np.sqrt(252.)\n",
    "print(nvda_sharpe)\n",
    "\n",
    "amz_sharpe = np.mean(amz_adj['daily_rtn']) / np.std(amz_adj['daily_rtn']) * np.sqrt(252.)\n",
    "print(amz_sharpe)"
   ]
  },
  {
   "cell_type": "code",
   "execution_count": 28,
   "metadata": {
    "colab": {
     "base_uri": "https://localhost:8080/"
    },
    "executionInfo": {
     "elapsed": 7,
     "status": "ok",
     "timestamp": 1643519659619,
     "user": {
      "displayName": "Wonyoung Choi",
      "photoUrl": "https://lh3.googleusercontent.com/a-/AOh14GhjFoQLJd5EdOeEwIzqDPHlKqZmX2G5i_kDz-wENA=s64",
      "userId": "04340733572966642717"
     },
     "user_tz": -540
    },
    "id": "uODspfSktSyl",
    "outputId": "d6f87409-a2b5-4db4-9d0e-a486ae0b0dc1"
   },
   "outputs": [
    {
     "name": "stdout",
     "output_type": "stream",
     "text": [
      "*엔비디아 성과 분석 결과*\n",
      "CAGR:  33.05 %\n",
      "MDD:  89.72 %\n",
      "Vol:  60.69 %\n",
      "Sharpe:  0.77\n"
     ]
    }
   ],
   "source": [
    "# 성과 분석 결과\n",
    "print('*엔비디아 성과 분석 결과*')\n",
    "print('CAGR: ', round(nvda_cagr*100, 2), '%')\n",
    "print('MDD: ', round(-1*nvda_historical_dd.min()*100, 2), '%')\n",
    "print('Vol: ', round(nvda_vol*100, 2), '%')\n",
    "print('Sharpe: ', round(nvda_sharpe, 2))"
   ]
  },
  {
   "cell_type": "code",
   "execution_count": 29,
   "metadata": {
    "executionInfo": {
     "elapsed": 6,
     "status": "ok",
     "timestamp": 1643519659619,
     "user": {
      "displayName": "Wonyoung Choi",
      "photoUrl": "https://lh3.googleusercontent.com/a-/AOh14GhjFoQLJd5EdOeEwIzqDPHlKqZmX2G5i_kDz-wENA=s64",
      "userId": "04340733572966642717"
     },
     "user_tz": -540
    },
    "id": "-GbutPSZvNe0"
   },
   "outputs": [],
   "source": [
    "# 상장 후 현재까지 연평균 복리 수익률로 33% 성장\n",
    "# 최대 낙폭을 살펴보면 89%까지 하락한 경우가 있음을 확인 가능\n",
    "# 변동성은 60%인 것을 확인 할 수 있는데, 이는 주가 수익률이 꽤 많이 출렁인 것을 의미\n",
    "# => 장기간의 시점에서 주가를 바라볼 때는 안정적으로 우상향했다고 생각할 수 있으나, 하루하루 주가 흐름은 그닥 안정적이이 않았다는 것을 의미\n",
    "# 샤프지수는 1이상만 되어도 좋다고 판단한다. (값이 높을수록 수익률이 우수)"
   ]
  },
  {
   "cell_type": "code",
   "execution_count": 30,
   "metadata": {
    "colab": {
     "base_uri": "https://localhost:8080/"
    },
    "executionInfo": {
     "elapsed": 7,
     "status": "ok",
     "timestamp": 1643519659620,
     "user": {
      "displayName": "Wonyoung Choi",
      "photoUrl": "https://lh3.googleusercontent.com/a-/AOh14GhjFoQLJd5EdOeEwIzqDPHlKqZmX2G5i_kDz-wENA=s64",
      "userId": "04340733572966642717"
     },
     "user_tz": -540
    },
    "id": "75ZgHCBduZ8l",
    "outputId": "29175b2a-36ad-4c01-c43a-be186b9b2007"
   },
   "outputs": [
    {
     "name": "stdout",
     "output_type": "stream",
     "text": [
      "*아마존 성과 분석 결과*\n",
      "CAGR:  31.65 %\n",
      "MDD:  94.4 %\n",
      "Vol:  57.17 %\n",
      "Sharpe:  0.76\n"
     ]
    }
   ],
   "source": [
    "print('*아마존 성과 분석 결과*')\n",
    "print('CAGR: ', round(amz_cagr*100, 2), '%')\n",
    "print('MDD: ', round(-1*amz_historical_dd.min()*100, 2), '%')\n",
    "print('Vol: ', round(amz_vol*100, 2), '%')\n",
    "print('Sharpe: ', round(amz_sharpe, 2))"
   ]
  }
 ],
 "metadata": {
  "colab": {
   "authorship_tag": "ABX9TyM5pMebR3SXvAFiFBGeJMjg",
   "name": "BuyAndHold.ipynb",
   "provenance": []
  },
  "kernelspec": {
   "display_name": "Python 3 (ipykernel)",
   "language": "python",
   "name": "python3"
  },
  "language_info": {
   "codemirror_mode": {
    "name": "ipython",
    "version": 3
   },
   "file_extension": ".py",
   "mimetype": "text/x-python",
   "name": "python",
   "nbconvert_exporter": "python",
   "pygments_lexer": "ipython3",
   "version": "3.9.7"
  }
 },
 "nbformat": 4,
 "nbformat_minor": 4
}
