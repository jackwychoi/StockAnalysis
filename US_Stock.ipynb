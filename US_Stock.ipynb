{
 "cells": [
  {
   "cell_type": "code",
   "execution_count": 1,
   "metadata": {
    "executionInfo": {
     "elapsed": 459,
     "status": "ok",
     "timestamp": 1646286853225,
     "user": {
      "displayName": "Wonyoung Choi",
      "photoUrl": "https://lh3.googleusercontent.com/a-/AOh14GhjFoQLJd5EdOeEwIzqDPHlKqZmX2G5i_kDz-wENA=s64",
      "userId": "04340733572966642717"
     },
     "user_tz": -540
    },
    "id": "2PnMrMySd9Gg"
   },
   "outputs": [],
   "source": [
    "import pandas as pd\n",
    "import numpy as np\n",
    "import matplotlib.pyplot as plt\n",
    "import matplotlib.dates as matdates\n",
    "import seaborn as sns\n",
    "import FinanceDataReader as fdr\n",
    "import yfinance as yf\n",
    "import datetime as dt\n",
    "import warnings\n",
    "warnings.filterwarnings('ignore')"
   ]
  },
  {
   "cell_type": "code",
   "execution_count": 2,
   "metadata": {
    "colab": {
     "base_uri": "https://localhost:8080/"
    },
    "executionInfo": {
     "elapsed": 3906,
     "status": "ok",
     "timestamp": 1646286857128,
     "user": {
      "displayName": "Wonyoung Choi",
      "photoUrl": "https://lh3.googleusercontent.com/a-/AOh14GhjFoQLJd5EdOeEwIzqDPHlKqZmX2G5i_kDz-wENA=s64",
      "userId": "04340733572966642717"
     },
     "user_tz": -540
    },
    "id": "DI1cPPFXa6g-",
    "outputId": "53aebfa7-0584-41cf-fc4c-b4e0aee986b3"
   },
   "outputs": [
    {
     "name": "stdout",
     "output_type": "stream",
     "text": [
      "[*********************100%***********************]  1 of 1 completed\n"
     ]
    },
    {
     "data": {
      "text/html": [
       "<div><div id=cf962b90-c44a-495d-986d-5318764a28ae style=\"display:none; background-color:#9D6CFF; color:white; width:200px; height:30px; padding-left:5px; border-radius:4px; flex-direction:row; justify-content:space-around; align-items:center;\" onmouseover=\"this.style.backgroundColor='#BA9BF8'\" onmouseout=\"this.style.backgroundColor='#9D6CFF'\" onclick=\"window.commands?.execute('create-mitosheet-from-dataframe-output');\">See Full Dataframe in Mito</div> <script> if (window.commands?.hasCommand('create-mitosheet-from-dataframe-output')) document.getElementById('cf962b90-c44a-495d-986d-5318764a28ae').style.display = 'flex' </script> <table border=\"1\" class=\"dataframe\">\n",
       "  <thead>\n",
       "    <tr style=\"text-align: right;\">\n",
       "      <th></th>\n",
       "      <th>Open</th>\n",
       "      <th>High</th>\n",
       "      <th>Low</th>\n",
       "      <th>Close</th>\n",
       "      <th>Adj Close</th>\n",
       "      <th>Volume</th>\n",
       "    </tr>\n",
       "    <tr>\n",
       "      <th>Date</th>\n",
       "      <th></th>\n",
       "      <th></th>\n",
       "      <th></th>\n",
       "      <th></th>\n",
       "      <th></th>\n",
       "      <th></th>\n",
       "    </tr>\n",
       "  </thead>\n",
       "  <tbody>\n",
       "    <tr>\n",
       "      <th>2023-06-05 00:00:00-04:00</th>\n",
       "      <td>389.089996</td>\n",
       "      <td>395.649994</td>\n",
       "      <td>387.070007</td>\n",
       "      <td>391.709991</td>\n",
       "      <td>391.669464</td>\n",
       "      <td>39609400</td>\n",
       "    </tr>\n",
       "    <tr>\n",
       "      <th>2023-06-06 00:00:00-04:00</th>\n",
       "      <td>388.299988</td>\n",
       "      <td>391.600006</td>\n",
       "      <td>381.480011</td>\n",
       "      <td>386.540009</td>\n",
       "      <td>386.500000</td>\n",
       "      <td>38872900</td>\n",
       "    </tr>\n",
       "    <tr>\n",
       "      <th>2023-06-07 00:00:00-04:00</th>\n",
       "      <td>389.149994</td>\n",
       "      <td>394.989990</td>\n",
       "      <td>373.559998</td>\n",
       "      <td>374.750000</td>\n",
       "      <td>374.750000</td>\n",
       "      <td>51199800</td>\n",
       "    </tr>\n",
       "    <tr>\n",
       "      <th>2023-06-08 00:00:00-04:00</th>\n",
       "      <td>377.239990</td>\n",
       "      <td>388.640015</td>\n",
       "      <td>375.049988</td>\n",
       "      <td>385.100006</td>\n",
       "      <td>385.100006</td>\n",
       "      <td>41777200</td>\n",
       "    </tr>\n",
       "    <tr>\n",
       "      <th>2023-06-09 00:00:00-04:00</th>\n",
       "      <td>390.369995</td>\n",
       "      <td>397.109985</td>\n",
       "      <td>385.670013</td>\n",
       "      <td>387.700012</td>\n",
       "      <td>387.700012</td>\n",
       "      <td>42722000</td>\n",
       "    </tr>\n",
       "  </tbody>\n",
       "</table></div>"
      ],
      "text/plain": [
       "                                 Open        High         Low       Close  \\\n",
       "Date                                                                        \n",
       "2023-06-05 00:00:00-04:00  389.089996  395.649994  387.070007  391.709991   \n",
       "2023-06-06 00:00:00-04:00  388.299988  391.600006  381.480011  386.540009   \n",
       "2023-06-07 00:00:00-04:00  389.149994  394.989990  373.559998  374.750000   \n",
       "2023-06-08 00:00:00-04:00  377.239990  388.640015  375.049988  385.100006   \n",
       "2023-06-09 00:00:00-04:00  390.369995  397.109985  385.670013  387.700012   \n",
       "\n",
       "                            Adj Close    Volume  \n",
       "Date                                             \n",
       "2023-06-05 00:00:00-04:00  391.669464  39609400  \n",
       "2023-06-06 00:00:00-04:00  386.500000  38872900  \n",
       "2023-06-07 00:00:00-04:00  374.750000  51199800  \n",
       "2023-06-08 00:00:00-04:00  385.100006  41777200  \n",
       "2023-06-09 00:00:00-04:00  387.700012  42722000  "
      ]
     },
     "execution_count": 2,
     "metadata": {},
     "output_type": "execute_result"
    }
   ],
   "source": [
    "nvidia = yf.download('NVDA')\n",
    "nvidia.tail()"
   ]
  },
  {
   "cell_type": "code",
   "execution_count": 3,
   "metadata": {
    "colab": {
     "base_uri": "https://localhost:8080/",
     "height": 81
    },
    "executionInfo": {
     "elapsed": 5,
     "status": "ok",
     "timestamp": 1646286857128,
     "user": {
      "displayName": "Wonyoung Choi",
      "photoUrl": "https://lh3.googleusercontent.com/a-/AOh14GhjFoQLJd5EdOeEwIzqDPHlKqZmX2G5i_kDz-wENA=s64",
      "userId": "04340733572966642717"
     },
     "user_tz": -540
    },
    "id": "oCQMR4mMZM-O",
    "outputId": "195bbc5a-e036-4737-81f0-6c943f6f91c6"
   },
   "outputs": [
    {
     "data": {
      "text/html": [
       "<div><div id=514b7219-3fbc-4e0e-be8d-8301c7b409ee style=\"display:none; background-color:#9D6CFF; color:white; width:200px; height:30px; padding-left:5px; border-radius:4px; flex-direction:row; justify-content:space-around; align-items:center;\" onmouseover=\"this.style.backgroundColor='#BA9BF8'\" onmouseout=\"this.style.backgroundColor='#9D6CFF'\" onclick=\"window.commands?.execute('create-mitosheet-from-dataframe-output');\">See Full Dataframe in Mito</div> <script> if (window.commands?.hasCommand('create-mitosheet-from-dataframe-output')) document.getElementById('514b7219-3fbc-4e0e-be8d-8301c7b409ee').style.display = 'flex' </script> <table border=\"1\" class=\"dataframe\">\n",
       "  <thead>\n",
       "    <tr style=\"text-align: right;\">\n",
       "      <th></th>\n",
       "      <th>Open</th>\n",
       "      <th>High</th>\n",
       "      <th>Low</th>\n",
       "      <th>Close</th>\n",
       "      <th>Adj Close</th>\n",
       "      <th>Volume</th>\n",
       "    </tr>\n",
       "    <tr>\n",
       "      <th>Date</th>\n",
       "      <th></th>\n",
       "      <th></th>\n",
       "      <th></th>\n",
       "      <th></th>\n",
       "      <th></th>\n",
       "      <th></th>\n",
       "    </tr>\n",
       "  </thead>\n",
       "  <tbody>\n",
       "  </tbody>\n",
       "</table></div>"
      ],
      "text/plain": [
       "Empty DataFrame\n",
       "Columns: [Open, High, Low, Close, Adj Close, Volume]\n",
       "Index: []"
      ]
     },
     "execution_count": 3,
     "metadata": {},
     "output_type": "execute_result"
    }
   ],
   "source": [
    "nvidia.loc[nvidia.isna().any(axis=1)]"
   ]
  },
  {
   "cell_type": "code",
   "execution_count": 4,
   "metadata": {
    "executionInfo": {
     "elapsed": 2474,
     "status": "ok",
     "timestamp": 1646286859598,
     "user": {
      "displayName": "Wonyoung Choi",
      "photoUrl": "https://lh3.googleusercontent.com/a-/AOh14GhjFoQLJd5EdOeEwIzqDPHlKqZmX2G5i_kDz-wENA=s64",
      "userId": "04340733572966642717"
     },
     "user_tz": -540
    },
    "id": "sS6RslRmln55"
   },
   "outputs": [
    {
     "name": "stdout",
     "output_type": "stream",
     "text": [
      "[*********************100%***********************]  1 of 1 completed\n"
     ]
    },
    {
     "data": {
      "text/html": [
       "<div><div id=3a2480fc-86dc-4b16-b5dc-02e8da83e797 style=\"display:none; background-color:#9D6CFF; color:white; width:200px; height:30px; padding-left:5px; border-radius:4px; flex-direction:row; justify-content:space-around; align-items:center;\" onmouseover=\"this.style.backgroundColor='#BA9BF8'\" onmouseout=\"this.style.backgroundColor='#9D6CFF'\" onclick=\"window.commands?.execute('create-mitosheet-from-dataframe-output');\">See Full Dataframe in Mito</div> <script> if (window.commands?.hasCommand('create-mitosheet-from-dataframe-output')) document.getElementById('3a2480fc-86dc-4b16-b5dc-02e8da83e797').style.display = 'flex' </script> <table border=\"1\" class=\"dataframe\">\n",
       "  <thead>\n",
       "    <tr style=\"text-align: right;\">\n",
       "      <th></th>\n",
       "      <th>Open</th>\n",
       "      <th>High</th>\n",
       "      <th>Low</th>\n",
       "      <th>Close</th>\n",
       "      <th>Adj Close</th>\n",
       "      <th>Volume</th>\n",
       "    </tr>\n",
       "    <tr>\n",
       "      <th>Date</th>\n",
       "      <th></th>\n",
       "      <th></th>\n",
       "      <th></th>\n",
       "      <th></th>\n",
       "      <th></th>\n",
       "      <th></th>\n",
       "    </tr>\n",
       "  </thead>\n",
       "  <tbody>\n",
       "    <tr>\n",
       "      <th>2023-06-05 00:00:00-04:00</th>\n",
       "      <td>36.759998</td>\n",
       "      <td>37.700001</td>\n",
       "      <td>36.560001</td>\n",
       "      <td>36.900002</td>\n",
       "      <td>36.900002</td>\n",
       "      <td>103130900</td>\n",
       "    </tr>\n",
       "    <tr>\n",
       "      <th>2023-06-06 00:00:00-04:00</th>\n",
       "      <td>36.689999</td>\n",
       "      <td>37.160000</td>\n",
       "      <td>36.259998</td>\n",
       "      <td>36.860001</td>\n",
       "      <td>36.860001</td>\n",
       "      <td>79754500</td>\n",
       "    </tr>\n",
       "    <tr>\n",
       "      <th>2023-06-07 00:00:00-04:00</th>\n",
       "      <td>36.939999</td>\n",
       "      <td>37.560001</td>\n",
       "      <td>34.770000</td>\n",
       "      <td>34.980000</td>\n",
       "      <td>34.980000</td>\n",
       "      <td>114242700</td>\n",
       "    </tr>\n",
       "    <tr>\n",
       "      <th>2023-06-08 00:00:00-04:00</th>\n",
       "      <td>35.020000</td>\n",
       "      <td>36.380001</td>\n",
       "      <td>34.950001</td>\n",
       "      <td>36.180000</td>\n",
       "      <td>36.180000</td>\n",
       "      <td>94076900</td>\n",
       "    </tr>\n",
       "    <tr>\n",
       "      <th>2023-06-09 00:00:00-04:00</th>\n",
       "      <td>36.680000</td>\n",
       "      <td>37.619999</td>\n",
       "      <td>36.200001</td>\n",
       "      <td>36.619999</td>\n",
       "      <td>36.619999</td>\n",
       "      <td>103851700</td>\n",
       "    </tr>\n",
       "  </tbody>\n",
       "</table></div>"
      ],
      "text/plain": [
       "                                Open       High        Low      Close  \\\n",
       "Date                                                                    \n",
       "2023-06-05 00:00:00-04:00  36.759998  37.700001  36.560001  36.900002   \n",
       "2023-06-06 00:00:00-04:00  36.689999  37.160000  36.259998  36.860001   \n",
       "2023-06-07 00:00:00-04:00  36.939999  37.560001  34.770000  34.980000   \n",
       "2023-06-08 00:00:00-04:00  35.020000  36.380001  34.950001  36.180000   \n",
       "2023-06-09 00:00:00-04:00  36.680000  37.619999  36.200001  36.619999   \n",
       "\n",
       "                           Adj Close     Volume  \n",
       "Date                                             \n",
       "2023-06-05 00:00:00-04:00  36.900002  103130900  \n",
       "2023-06-06 00:00:00-04:00  36.860001   79754500  \n",
       "2023-06-07 00:00:00-04:00  34.980000  114242700  \n",
       "2023-06-08 00:00:00-04:00  36.180000   94076900  \n",
       "2023-06-09 00:00:00-04:00  36.619999  103851700  "
      ]
     },
     "execution_count": 4,
     "metadata": {},
     "output_type": "execute_result"
    }
   ],
   "source": [
    "tqqq = yf.download('TQQQ')\n",
    "tqqq.tail()"
   ]
  },
  {
   "cell_type": "code",
   "execution_count": 5,
   "metadata": {
    "colab": {
     "base_uri": "https://localhost:8080/"
    },
    "executionInfo": {
     "elapsed": 16,
     "status": "ok",
     "timestamp": 1646286859600,
     "user": {
      "displayName": "Wonyoung Choi",
      "photoUrl": "https://lh3.googleusercontent.com/a-/AOh14GhjFoQLJd5EdOeEwIzqDPHlKqZmX2G5i_kDz-wENA=s64",
      "userId": "04340733572966642717"
     },
     "user_tz": -540
    },
    "id": "MHkkjkcLXI6t",
    "outputId": "ed117fca-d289-4406-e4b4-817cf73e7cda"
   },
   "outputs": [
    {
     "data": {
      "text/plain": [
       "Open         False\n",
       "High         False\n",
       "Low          False\n",
       "Close        False\n",
       "Adj Close    False\n",
       "Volume       False\n",
       "dtype: bool"
      ]
     },
     "execution_count": 5,
     "metadata": {},
     "output_type": "execute_result"
    }
   ],
   "source": [
    "# Check null values\n",
    "nvidia.isin([np.nan, np.inf, -np.inf]).any()"
   ]
  },
  {
   "cell_type": "code",
   "execution_count": 6,
   "metadata": {
    "colab": {
     "base_uri": "https://localhost:8080/"
    },
    "executionInfo": {
     "elapsed": 12,
     "status": "ok",
     "timestamp": 1646286859601,
     "user": {
      "displayName": "Wonyoung Choi",
      "photoUrl": "https://lh3.googleusercontent.com/a-/AOh14GhjFoQLJd5EdOeEwIzqDPHlKqZmX2G5i_kDz-wENA=s64",
      "userId": "04340733572966642717"
     },
     "user_tz": -540
    },
    "id": "toWnOeWCmDBh",
    "outputId": "b95d4f4b-aea4-4cf3-bf3b-2f832c369067"
   },
   "outputs": [
    {
     "data": {
      "text/plain": [
       "Open         False\n",
       "High         False\n",
       "Low          False\n",
       "Close        False\n",
       "Adj Close    False\n",
       "Volume       False\n",
       "dtype: bool"
      ]
     },
     "execution_count": 6,
     "metadata": {},
     "output_type": "execute_result"
    }
   ],
   "source": [
    "tqqq.isin([np.nan, np.inf, -np.inf]).any()"
   ]
  },
  {
   "cell_type": "code",
   "execution_count": 7,
   "metadata": {
    "executionInfo": {
     "elapsed": 11,
     "status": "ok",
     "timestamp": 1646286859602,
     "user": {
      "displayName": "Wonyoung Choi",
      "photoUrl": "https://lh3.googleusercontent.com/a-/AOh14GhjFoQLJd5EdOeEwIzqDPHlKqZmX2G5i_kDz-wENA=s64",
      "userId": "04340733572966642717"
     },
     "user_tz": -540
    },
    "id": "QlXKBoZGYLhd"
   },
   "outputs": [],
   "source": [
    "nvidia.insert(0, 'Date', nvidia.index)"
   ]
  },
  {
   "cell_type": "code",
   "execution_count": 8,
   "metadata": {
    "executionInfo": {
     "elapsed": 11,
     "status": "ok",
     "timestamp": 1646286859603,
     "user": {
      "displayName": "Wonyoung Choi",
      "photoUrl": "https://lh3.googleusercontent.com/a-/AOh14GhjFoQLJd5EdOeEwIzqDPHlKqZmX2G5i_kDz-wENA=s64",
      "userId": "04340733572966642717"
     },
     "user_tz": -540
    },
    "id": "dMnTVBdomFLh"
   },
   "outputs": [],
   "source": [
    "tqqq.insert(0, 'Date', tqqq.index)"
   ]
  },
  {
   "cell_type": "code",
   "execution_count": 9,
   "metadata": {
    "executionInfo": {
     "elapsed": 680,
     "status": "ok",
     "timestamp": 1646286860272,
     "user": {
      "displayName": "Wonyoung Choi",
      "photoUrl": "https://lh3.googleusercontent.com/a-/AOh14GhjFoQLJd5EdOeEwIzqDPHlKqZmX2G5i_kDz-wENA=s64",
      "userId": "04340733572966642717"
     },
     "user_tz": -540
    },
    "id": "04BElmAcvsAo"
   },
   "outputs": [],
   "source": [
    "nvidia.reset_index(drop=True, inplace=True)"
   ]
  },
  {
   "cell_type": "code",
   "execution_count": 10,
   "metadata": {
    "executionInfo": {
     "elapsed": 16,
     "status": "ok",
     "timestamp": 1646286860273,
     "user": {
      "displayName": "Wonyoung Choi",
      "photoUrl": "https://lh3.googleusercontent.com/a-/AOh14GhjFoQLJd5EdOeEwIzqDPHlKqZmX2G5i_kDz-wENA=s64",
      "userId": "04340733572966642717"
     },
     "user_tz": -540
    },
    "id": "5E7_ICQ9mKm7"
   },
   "outputs": [],
   "source": [
    "tqqq.reset_index(drop=True, inplace=True)"
   ]
  },
  {
   "cell_type": "code",
   "execution_count": 11,
   "metadata": {
    "executionInfo": {
     "elapsed": 16,
     "status": "ok",
     "timestamp": 1646286860273,
     "user": {
      "displayName": "Wonyoung Choi",
      "photoUrl": "https://lh3.googleusercontent.com/a-/AOh14GhjFoQLJd5EdOeEwIzqDPHlKqZmX2G5i_kDz-wENA=s64",
      "userId": "04340733572966642717"
     },
     "user_tz": -540
    },
    "id": "wffBplFxxKX1"
   },
   "outputs": [],
   "source": [
    "nvidia.insert(1, 'Date_str', nvidia['Date'].dt.strftime('%Y-%m-%d'))"
   ]
  },
  {
   "cell_type": "code",
   "execution_count": 12,
   "metadata": {
    "executionInfo": {
     "elapsed": 16,
     "status": "ok",
     "timestamp": 1646286860274,
     "user": {
      "displayName": "Wonyoung Choi",
      "photoUrl": "https://lh3.googleusercontent.com/a-/AOh14GhjFoQLJd5EdOeEwIzqDPHlKqZmX2G5i_kDz-wENA=s64",
      "userId": "04340733572966642717"
     },
     "user_tz": -540
    },
    "id": "NCg1y-_WmM5z"
   },
   "outputs": [],
   "source": [
    "tqqq.insert(1, 'Date_str', tqqq['Date'].dt.strftime('%Y-%m-%d'))"
   ]
  },
  {
   "cell_type": "code",
   "execution_count": 13,
   "metadata": {
    "colab": {
     "base_uri": "https://localhost:8080/",
     "height": 206
    },
    "executionInfo": {
     "elapsed": 16,
     "status": "ok",
     "timestamp": 1646286860274,
     "user": {
      "displayName": "Wonyoung Choi",
      "photoUrl": "https://lh3.googleusercontent.com/a-/AOh14GhjFoQLJd5EdOeEwIzqDPHlKqZmX2G5i_kDz-wENA=s64",
      "userId": "04340733572966642717"
     },
     "user_tz": -540
    },
    "id": "MNqH7XODxpzx",
    "outputId": "fe2386f1-7185-405c-8b90-79f0159013b5"
   },
   "outputs": [
    {
     "data": {
      "text/html": [
       "<div><div id=e4e48020-fd71-4bf9-9fcc-6360ec058803 style=\"display:none; background-color:#9D6CFF; color:white; width:200px; height:30px; padding-left:5px; border-radius:4px; flex-direction:row; justify-content:space-around; align-items:center;\" onmouseover=\"this.style.backgroundColor='#BA9BF8'\" onmouseout=\"this.style.backgroundColor='#9D6CFF'\" onclick=\"window.commands?.execute('create-mitosheet-from-dataframe-output');\">See Full Dataframe in Mito</div> <script> if (window.commands?.hasCommand('create-mitosheet-from-dataframe-output')) document.getElementById('e4e48020-fd71-4bf9-9fcc-6360ec058803').style.display = 'flex' </script> <table border=\"1\" class=\"dataframe\">\n",
       "  <thead>\n",
       "    <tr style=\"text-align: right;\">\n",
       "      <th></th>\n",
       "      <th>Date</th>\n",
       "      <th>Date_str</th>\n",
       "      <th>Open</th>\n",
       "      <th>High</th>\n",
       "      <th>Low</th>\n",
       "      <th>Close</th>\n",
       "      <th>Adj Close</th>\n",
       "      <th>Volume</th>\n",
       "    </tr>\n",
       "  </thead>\n",
       "  <tbody>\n",
       "    <tr>\n",
       "      <th>0</th>\n",
       "      <td>1999-01-22 00:00:00-05:00</td>\n",
       "      <td>1999-01-22</td>\n",
       "      <td>0.437500</td>\n",
       "      <td>0.488281</td>\n",
       "      <td>0.388021</td>\n",
       "      <td>0.410156</td>\n",
       "      <td>0.376319</td>\n",
       "      <td>271468800</td>\n",
       "    </tr>\n",
       "    <tr>\n",
       "      <th>1</th>\n",
       "      <td>1999-01-25 00:00:00-05:00</td>\n",
       "      <td>1999-01-25</td>\n",
       "      <td>0.442708</td>\n",
       "      <td>0.458333</td>\n",
       "      <td>0.410156</td>\n",
       "      <td>0.453125</td>\n",
       "      <td>0.415743</td>\n",
       "      <td>51048000</td>\n",
       "    </tr>\n",
       "    <tr>\n",
       "      <th>2</th>\n",
       "      <td>1999-01-26 00:00:00-05:00</td>\n",
       "      <td>1999-01-26</td>\n",
       "      <td>0.458333</td>\n",
       "      <td>0.467448</td>\n",
       "      <td>0.411458</td>\n",
       "      <td>0.417969</td>\n",
       "      <td>0.383487</td>\n",
       "      <td>34320000</td>\n",
       "    </tr>\n",
       "    <tr>\n",
       "      <th>3</th>\n",
       "      <td>1999-01-27 00:00:00-05:00</td>\n",
       "      <td>1999-01-27</td>\n",
       "      <td>0.419271</td>\n",
       "      <td>0.429688</td>\n",
       "      <td>0.395833</td>\n",
       "      <td>0.416667</td>\n",
       "      <td>0.382293</td>\n",
       "      <td>24436800</td>\n",
       "    </tr>\n",
       "    <tr>\n",
       "      <th>4</th>\n",
       "      <td>1999-01-28 00:00:00-05:00</td>\n",
       "      <td>1999-01-28</td>\n",
       "      <td>0.416667</td>\n",
       "      <td>0.419271</td>\n",
       "      <td>0.412760</td>\n",
       "      <td>0.415365</td>\n",
       "      <td>0.381098</td>\n",
       "      <td>22752000</td>\n",
       "    </tr>\n",
       "  </tbody>\n",
       "</table></div>"
      ],
      "text/plain": [
       "                       Date    Date_str      Open      High       Low  \\\n",
       "0 1999-01-22 00:00:00-05:00  1999-01-22  0.437500  0.488281  0.388021   \n",
       "1 1999-01-25 00:00:00-05:00  1999-01-25  0.442708  0.458333  0.410156   \n",
       "2 1999-01-26 00:00:00-05:00  1999-01-26  0.458333  0.467448  0.411458   \n",
       "3 1999-01-27 00:00:00-05:00  1999-01-27  0.419271  0.429688  0.395833   \n",
       "4 1999-01-28 00:00:00-05:00  1999-01-28  0.416667  0.419271  0.412760   \n",
       "\n",
       "      Close  Adj Close     Volume  \n",
       "0  0.410156   0.376319  271468800  \n",
       "1  0.453125   0.415743   51048000  \n",
       "2  0.417969   0.383487   34320000  \n",
       "3  0.416667   0.382293   24436800  \n",
       "4  0.415365   0.381098   22752000  "
      ]
     },
     "execution_count": 13,
     "metadata": {},
     "output_type": "execute_result"
    }
   ],
   "source": [
    "nvidia.head()"
   ]
  },
  {
   "cell_type": "code",
   "execution_count": 14,
   "metadata": {
    "colab": {
     "base_uri": "https://localhost:8080/",
     "height": 50
    },
    "executionInfo": {
     "elapsed": 16,
     "status": "ok",
     "timestamp": 1646286860275,
     "user": {
      "displayName": "Wonyoung Choi",
      "photoUrl": "https://lh3.googleusercontent.com/a-/AOh14GhjFoQLJd5EdOeEwIzqDPHlKqZmX2G5i_kDz-wENA=s64",
      "userId": "04340733572966642717"
     },
     "user_tz": -540
    },
    "id": "ltWu-qRpZjvN",
    "outputId": "351d6c97-c2d3-430a-bd39-7004d3ae5cb1"
   },
   "outputs": [
    {
     "data": {
      "text/html": [
       "<div><div id=f6c57383-65b2-4434-8c84-29800cd45af3 style=\"display:none; background-color:#9D6CFF; color:white; width:200px; height:30px; padding-left:5px; border-radius:4px; flex-direction:row; justify-content:space-around; align-items:center;\" onmouseover=\"this.style.backgroundColor='#BA9BF8'\" onmouseout=\"this.style.backgroundColor='#9D6CFF'\" onclick=\"window.commands?.execute('create-mitosheet-from-dataframe-output');\">See Full Dataframe in Mito</div> <script> if (window.commands?.hasCommand('create-mitosheet-from-dataframe-output')) document.getElementById('f6c57383-65b2-4434-8c84-29800cd45af3').style.display = 'flex' </script> <table border=\"1\" class=\"dataframe\">\n",
       "  <thead>\n",
       "    <tr style=\"text-align: right;\">\n",
       "      <th></th>\n",
       "      <th>Date</th>\n",
       "      <th>Date_str</th>\n",
       "      <th>Open</th>\n",
       "      <th>High</th>\n",
       "      <th>Low</th>\n",
       "      <th>Close</th>\n",
       "      <th>Adj Close</th>\n",
       "      <th>Volume</th>\n",
       "    </tr>\n",
       "  </thead>\n",
       "  <tbody>\n",
       "  </tbody>\n",
       "</table></div>"
      ],
      "text/plain": [
       "Empty DataFrame\n",
       "Columns: [Date, Date_str, Open, High, Low, Close, Adj Close, Volume]\n",
       "Index: []"
      ]
     },
     "execution_count": 14,
     "metadata": {},
     "output_type": "execute_result"
    }
   ],
   "source": [
    "nvidia.loc[nvidia['Date_str']=='2001-09-13']"
   ]
  },
  {
   "cell_type": "code",
   "execution_count": 15,
   "metadata": {
    "colab": {
     "base_uri": "https://localhost:8080/"
    },
    "executionInfo": {
     "elapsed": 16,
     "status": "ok",
     "timestamp": 1646286860276,
     "user": {
      "displayName": "Wonyoung Choi",
      "photoUrl": "https://lh3.googleusercontent.com/a-/AOh14GhjFoQLJd5EdOeEwIzqDPHlKqZmX2G5i_kDz-wENA=s64",
      "userId": "04340733572966642717"
     },
     "user_tz": -540
    },
    "id": "p6LV5sbnxr7N",
    "outputId": "05f42439-344d-40d5-b058-63d8fbc0dddd"
   },
   "outputs": [
    {
     "data": {
      "text/plain": [
       "Date         datetime64[ns, America/New_York]\n",
       "Date_str                               object\n",
       "Open                                  float64\n",
       "High                                  float64\n",
       "Low                                   float64\n",
       "Close                                 float64\n",
       "Adj Close                             float64\n",
       "Volume                                  int64\n",
       "dtype: object"
      ]
     },
     "execution_count": 15,
     "metadata": {},
     "output_type": "execute_result"
    }
   ],
   "source": [
    "nvidia.dtypes"
   ]
  },
  {
   "cell_type": "code",
   "execution_count": 16,
   "metadata": {
    "colab": {
     "base_uri": "https://localhost:8080/",
     "height": 282
    },
    "executionInfo": {
     "elapsed": 13,
     "status": "ok",
     "timestamp": 1646286860276,
     "user": {
      "displayName": "Wonyoung Choi",
      "photoUrl": "https://lh3.googleusercontent.com/a-/AOh14GhjFoQLJd5EdOeEwIzqDPHlKqZmX2G5i_kDz-wENA=s64",
      "userId": "04340733572966642717"
     },
     "user_tz": -540
    },
    "id": "Sb6JIgsxxu3M",
    "outputId": "fea59045-1811-4521-b6f5-0f403a988c0e"
   },
   "outputs": [
    {
     "data": {
      "text/plain": [
       "<Axes: >"
      ]
     },
     "execution_count": 16,
     "metadata": {},
     "output_type": "execute_result"
    },
    {
     "data": {
      "image/png": "[encoded data removed]",
      "text/plain": [
       "<Figure size 432x288 with 1 Axes>"
      ]
     },
     "metadata": {
      "needs_background": "light"
     },
     "output_type": "display_data"
    }
   ],
   "source": [
    "nvidia.loc[nvidia['Date_str'].str.contains('2023', na=False), 'Close'].plot()"
   ]
  },
  {
   "cell_type": "code",
   "execution_count": 17,
   "metadata": {},
   "outputs": [
    {
     "data": {
      "text/plain": [
       "110"
      ]
     },
     "execution_count": 17,
     "metadata": {},
     "output_type": "execute_result"
    }
   ],
   "source": [
    "nvidia.loc[nvidia['Date_str'].str.contains('2023', na=False), 'Date_str'].nunique()"
   ]
  },
  {
   "cell_type": "code",
   "execution_count": 18,
   "metadata": {
    "colab": {
     "base_uri": "https://localhost:8080/",
     "height": 517
    },
    "executionInfo": {
     "elapsed": 1219,
     "status": "ok",
     "timestamp": 1646286861484,
     "user": {
      "displayName": "Wonyoung Choi",
      "photoUrl": "https://lh3.googleusercontent.com/a-/AOh14GhjFoQLJd5EdOeEwIzqDPHlKqZmX2G5i_kDz-wENA=s64",
      "userId": "04340733572966642717"
     },
     "user_tz": -540
    },
    "id": "htgR1fCvx6h6",
    "outputId": "f8f9577a-7c02-455d-a58c-73af9426b8db"
   },
   "outputs": [
    {
     "data": {
      "image/png": "[encoded data removed]",
      "text/plain": [
       "<Figure size 864x504 with 1 Axes>"
      ]
     },
     "metadata": {},
     "output_type": "display_data"
    }
   ],
   "source": [
    "sns.set_style('whitegrid')\n",
    "fig, ax = plt.subplots(1, 1, figsize=(12, 7))\n",
    "daylocator = matdates.DayLocator(interval=3)\n",
    "ax = sns.lineplot(data=nvidia.loc[nvidia['Date_str'].str.contains('2023', na=False), :], \n",
    "                  x='Date', y='Close', lw=3, color = '#33CC33')\n",
    "ax.xaxis.set_major_formatter(matdates.DateFormatter('%Y-%m-%d'))\n",
    "ax.xaxis.set_major_locator(daylocator)\n",
    "ax.set_facecolor('#EDFEE2')\n",
    "ax.set(xlabel='', ylabel='')\n",
    "#fig.suptitle('NVIDIA', fontsize=20, fontweight='bold')\n",
    "fig.text(0.51, 0.9, 'NVIDIA', ha='center', va='center', fontsize=17, color='#33CC33', fontweight='bold')\n",
    "fig.text(0.52, -0.03, 'Date', ha='center', va='center', fontsize=17)\n",
    "fig.text(0.07, 0.5, 'Close', ha='center', va='center', rotation='vertical', fontsize=17)\n",
    "ax.yaxis.get_label().set_fontsize(15)\n",
    "ax.yaxis.label.set_color('#51585E')\n",
    "ax.tick_params('x', labelrotation=80)\n",
    "#ax.set_xlim(-1, 111)\n",
    "#plt.xticks(np.arange(1, 110, step=2.5))\n",
    "plt.yticks(np.arange(120, 421, step=60));\n",
    "#for ax in fig.axes:\n",
    "#    ax.tick_params(labelrotation=70);"
   ]
  },
  {
   "cell_type": "code",
   "execution_count": 19,
   "metadata": {
    "colab": {
     "base_uri": "https://localhost:8080/",
     "height": 532
    },
    "executionInfo": {
     "elapsed": 799,
     "status": "ok",
     "timestamp": 1646287198306,
     "user": {
      "displayName": "Wonyoung Choi",
      "photoUrl": "https://lh3.googleusercontent.com/a-/AOh14GhjFoQLJd5EdOeEwIzqDPHlKqZmX2G5i_kDz-wENA=s64",
      "userId": "04340733572966642717"
     },
     "user_tz": -540
    },
    "id": "Rv_dUWKzmRqc",
    "outputId": "4189619b-f0e3-4224-a034-79edb526dd48"
   },
   "outputs": [
    {
     "data": {
      "image/png": "[encoded data removed]",
      "text/plain": [
       "<Figure size 864x504 with 1 Axes>"
      ]
     },
     "metadata": {},
     "output_type": "display_data"
    }
   ],
   "source": [
    "sns.set_style('whitegrid')\n",
    "fig, ax = plt.subplots(1, 1, figsize=(12, 7))\n",
    "daylocator = matdates.DayLocator(interval=3)\n",
    "ax = sns.lineplot(data=tqqq.loc[(tqqq['Date_str'].str.contains('2023', na=False))], \n",
    "                  x='Date', y='Close', lw=3, color = '#1AA7E6')\n",
    "ax.xaxis.set_major_formatter(matdates.DateFormatter('%Y-%m-%d'))\n",
    "ax.xaxis.set_major_locator(daylocator)\n",
    "ax.set_facecolor('#E8F2FC')\n",
    "ax.set(xlabel='', ylabel='')\n",
    "#fig.suptitle('NVIDIA', fontsize=20, fontweight='bold')\n",
    "fig.text(0.51, 0.9, 'TQQQ', ha='center', va='center', fontsize=17, color='#1AA7E6', fontweight='bold')\n",
    "fig.text(0.52, -0.06, 'Date', ha='center', va='center', fontsize=17)\n",
    "fig.text(0.07, 0.5, 'Close', ha='center', va='center', rotation='vertical', fontsize=17)\n",
    "ax.yaxis.get_label().set_fontsize(15)\n",
    "ax.yaxis.label.set_color('#E8F2FC')\n",
    "ax.tick_params('x', labelrotation=80)\n",
    "#plt.yticks(np.arange(200, 320, step=10));\n",
    "#for ax in fig.axes:\n",
    "#    ax.tick_params(labelrotation=70);\n",
    "ax.xaxis.set_tick_params(labelsize=13)\n",
    "ax.yaxis.set_tick_params(labelsize=13);\n",
    "#plt.setp(ax.get_yticklabels(), fontweight=\"bold\")\n",
    "#plt.setp(ax.get_xticklabels(), fontweight=\"bold\");"
   ]
  }
 ],
 "metadata": {
  "colab": {
   "authorship_tag": "ABX9TyP3oDOPzCV4izAhsWYlseEK",
   "collapsed_sections": [],
   "name": "US.ipynb",
   "provenance": []
  },
  "kernelspec": {
   "display_name": "Python 3 (ipykernel)",
   "language": "python",
   "name": "python3"
  },
  "language_info": {
   "codemirror_mode": {
    "name": "ipython",
    "version": 3
   },
   "file_extension": ".py",
   "mimetype": "text/x-python",
   "name": "python",
   "nbconvert_exporter": "python",
   "pygments_lexer": "ipython3",
   "version": "3.9.7"
  }
 },
 "nbformat": 4,
 "nbformat_minor": 4
}
