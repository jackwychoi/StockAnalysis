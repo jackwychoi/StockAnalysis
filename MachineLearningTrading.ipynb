{
 "cells": [
  {
   "cell_type": "code",
   "execution_count": 1,
   "metadata": {
    "executionInfo": {
     "elapsed": 1060,
     "status": "ok",
     "timestamp": 1647576220314,
     "user": {
      "displayName": "Wonyoung Choi",
      "photoUrl": "https://lh3.googleusercontent.com/a-/AOh14GhjFoQLJd5EdOeEwIzqDPHlKqZmX2G5i_kDz-wENA=s64",
      "userId": "04340733572966642717"
     },
     "user_tz": -540
    },
    "id": "ZYvlE6MuzBMv"
   },
   "outputs": [],
   "source": [
    "import numpy as np \n",
    "import pandas as pd \n",
    "import seaborn as sns\n",
    "import matplotlib.pyplot as plt\n",
    "import matplotlib.dates as matdates\n",
    "from datetime import datetime as dt\n",
    "from datetime import date, timedelta\n",
    "from sklearn.neighbors import KNeighborsClassifier\n",
    "from sklearn.metrics import accuracy_score\n",
    "import yfinance as yf"
   ]
  },
  {
   "cell_type": "code",
   "execution_count": 2,
   "metadata": {},
   "outputs": [],
   "source": [
    "pd.set_option('display.max_rows', None)\n",
    "pd.set_option('display.max_columns', None)"
   ]
  },
  {
   "cell_type": "code",
   "execution_count": 3,
   "metadata": {
    "colab": {
     "base_uri": "https://localhost:8080/",
     "height": 255
    },
    "executionInfo": {
     "elapsed": 15,
     "status": "ok",
     "timestamp": 1647576220315,
     "user": {
      "displayName": "Wonyoung Choi",
      "photoUrl": "https://lh3.googleusercontent.com/a-/AOh14GhjFoQLJd5EdOeEwIzqDPHlKqZmX2G5i_kDz-wENA=s64",
      "userId": "04340733572966642717"
     },
     "user_tz": -540
    },
    "id": "qVfoeHhfzGj0",
    "outputId": "8c1066c7-a42a-40a2-a003-2f30501f2b78"
   },
   "outputs": [
    {
     "name": "stdout",
     "output_type": "stream",
     "text": [
      "[*********************100%***********************]  1 of 1 completed\n"
     ]
    },
    {
     "data": {
      "text/html": [
       "<div><div id=121beadb-24d4-45c6-ac62-3e05d3aef616 style=\"display:none; background-color:#9D6CFF; color:white; width:200px; height:30px; padding-left:5px; border-radius:4px; flex-direction:row; justify-content:space-around; align-items:center;\" onmouseover=\"this.style.backgroundColor='#BA9BF8'\" onmouseout=\"this.style.backgroundColor='#9D6CFF'\" onclick=\"window.commands?.execute('create-mitosheet-from-dataframe-output');\">See Full Dataframe in Mito</div> <script> if (window.commands?.hasCommand('create-mitosheet-from-dataframe-output')) document.getElementById('121beadb-24d4-45c6-ac62-3e05d3aef616').style.display = 'flex' </script> <table border=\"1\" class=\"dataframe\">\n",
       "  <thead>\n",
       "    <tr style=\"text-align: right;\">\n",
       "      <th></th>\n",
       "      <th>Open</th>\n",
       "      <th>High</th>\n",
       "      <th>Low</th>\n",
       "      <th>Close</th>\n",
       "      <th>Adj Close</th>\n",
       "      <th>Volume</th>\n",
       "    </tr>\n",
       "    <tr>\n",
       "      <th>Date</th>\n",
       "      <th></th>\n",
       "      <th></th>\n",
       "      <th></th>\n",
       "      <th></th>\n",
       "      <th></th>\n",
       "      <th></th>\n",
       "    </tr>\n",
       "  </thead>\n",
       "  <tbody>\n",
       "    <tr>\n",
       "      <th>2022-06-13 00:00:00-04:00</th>\n",
       "      <td>24.270000</td>\n",
       "      <td>24.980000</td>\n",
       "      <td>22.82</td>\n",
       "      <td>23.080000</td>\n",
       "      <td>22.827751</td>\n",
       "      <td>213365700</td>\n",
       "    </tr>\n",
       "    <tr>\n",
       "      <th>2022-06-14 00:00:00-04:00</th>\n",
       "      <td>23.639999</td>\n",
       "      <td>23.870001</td>\n",
       "      <td>22.52</td>\n",
       "      <td>23.230000</td>\n",
       "      <td>22.976110</td>\n",
       "      <td>196600500</td>\n",
       "    </tr>\n",
       "    <tr>\n",
       "      <th>2022-06-15 00:00:00-04:00</th>\n",
       "      <td>24.059999</td>\n",
       "      <td>25.920000</td>\n",
       "      <td>23.34</td>\n",
       "      <td>24.900000</td>\n",
       "      <td>24.627859</td>\n",
       "      <td>274911500</td>\n",
       "    </tr>\n",
       "    <tr>\n",
       "      <th>2022-06-16 00:00:00-04:00</th>\n",
       "      <td>22.990000</td>\n",
       "      <td>23.120001</td>\n",
       "      <td>21.32</td>\n",
       "      <td>21.860001</td>\n",
       "      <td>21.621086</td>\n",
       "      <td>212142200</td>\n",
       "    </tr>\n",
       "    <tr>\n",
       "      <th>2022-06-17 00:00:00-04:00</th>\n",
       "      <td>22.070000</td>\n",
       "      <td>23.280001</td>\n",
       "      <td>21.65</td>\n",
       "      <td>22.670000</td>\n",
       "      <td>22.422232</td>\n",
       "      <td>220590500</td>\n",
       "    </tr>\n",
       "  </tbody>\n",
       "</table></div>"
      ],
      "text/plain": [
       "                                Open       High    Low      Close  Adj Close  \\\n",
       "Date                                                                           \n",
       "2022-06-13 00:00:00-04:00  24.270000  24.980000  22.82  23.080000  22.827751   \n",
       "2022-06-14 00:00:00-04:00  23.639999  23.870001  22.52  23.230000  22.976110   \n",
       "2022-06-15 00:00:00-04:00  24.059999  25.920000  23.34  24.900000  24.627859   \n",
       "2022-06-16 00:00:00-04:00  22.990000  23.120001  21.32  21.860001  21.621086   \n",
       "2022-06-17 00:00:00-04:00  22.070000  23.280001  21.65  22.670000  22.422232   \n",
       "\n",
       "                              Volume  \n",
       "Date                                  \n",
       "2022-06-13 00:00:00-04:00  213365700  \n",
       "2022-06-14 00:00:00-04:00  196600500  \n",
       "2022-06-15 00:00:00-04:00  274911500  \n",
       "2022-06-16 00:00:00-04:00  212142200  \n",
       "2022-06-17 00:00:00-04:00  220590500  "
      ]
     },
     "execution_count": 3,
     "metadata": {},
     "output_type": "execute_result"
    }
   ],
   "source": [
    "df =  yf.download('TQQQ', '2022-06-12', '2023-06-11')\n",
    "df = df.dropna()\n",
    "df.head()"
   ]
  },
  {
   "cell_type": "code",
   "execution_count": 4,
   "metadata": {
    "colab": {
     "base_uri": "https://localhost:8080/",
     "height": 237
    },
    "executionInfo": {
     "elapsed": 11,
     "status": "ok",
     "timestamp": 1647576220315,
     "user": {
      "displayName": "Wonyoung Choi",
      "photoUrl": "https://lh3.googleusercontent.com/a-/AOh14GhjFoQLJd5EdOeEwIzqDPHlKqZmX2G5i_kDz-wENA=s64",
      "userId": "04340733572966642717"
     },
     "user_tz": -540
    },
    "id": "bX79ouD8zjNI",
    "outputId": "897368cf-a7c0-4e7a-fe3b-228d0ee4f68d"
   },
   "outputs": [
    {
     "data": {
      "text/html": [
       "<div><div id=14eb21e9-04ad-448d-a5b6-450cb1da3709 style=\"display:none; background-color:#9D6CFF; color:white; width:200px; height:30px; padding-left:5px; border-radius:4px; flex-direction:row; justify-content:space-around; align-items:center;\" onmouseover=\"this.style.backgroundColor='#BA9BF8'\" onmouseout=\"this.style.backgroundColor='#9D6CFF'\" onclick=\"window.commands?.execute('create-mitosheet-from-dataframe-output');\">See Full Dataframe in Mito</div> <script> if (window.commands?.hasCommand('create-mitosheet-from-dataframe-output')) document.getElementById('14eb21e9-04ad-448d-a5b6-450cb1da3709').style.display = 'flex' </script> <table border=\"1\" class=\"dataframe\">\n",
       "  <thead>\n",
       "    <tr style=\"text-align: right;\">\n",
       "      <th></th>\n",
       "      <th>Open</th>\n",
       "      <th>High</th>\n",
       "      <th>Low</th>\n",
       "      <th>Close</th>\n",
       "    </tr>\n",
       "    <tr>\n",
       "      <th>Date</th>\n",
       "      <th></th>\n",
       "      <th></th>\n",
       "      <th></th>\n",
       "      <th></th>\n",
       "    </tr>\n",
       "  </thead>\n",
       "  <tbody>\n",
       "    <tr>\n",
       "      <th>2022-06-13 00:00:00-04:00</th>\n",
       "      <td>24.270000</td>\n",
       "      <td>24.980000</td>\n",
       "      <td>22.82</td>\n",
       "      <td>23.080000</td>\n",
       "    </tr>\n",
       "    <tr>\n",
       "      <th>2022-06-14 00:00:00-04:00</th>\n",
       "      <td>23.639999</td>\n",
       "      <td>23.870001</td>\n",
       "      <td>22.52</td>\n",
       "      <td>23.230000</td>\n",
       "    </tr>\n",
       "    <tr>\n",
       "      <th>2022-06-15 00:00:00-04:00</th>\n",
       "      <td>24.059999</td>\n",
       "      <td>25.920000</td>\n",
       "      <td>23.34</td>\n",
       "      <td>24.900000</td>\n",
       "    </tr>\n",
       "    <tr>\n",
       "      <th>2022-06-16 00:00:00-04:00</th>\n",
       "      <td>22.990000</td>\n",
       "      <td>23.120001</td>\n",
       "      <td>21.32</td>\n",
       "      <td>21.860001</td>\n",
       "    </tr>\n",
       "    <tr>\n",
       "      <th>2022-06-17 00:00:00-04:00</th>\n",
       "      <td>22.070000</td>\n",
       "      <td>23.280001</td>\n",
       "      <td>21.65</td>\n",
       "      <td>22.670000</td>\n",
       "    </tr>\n",
       "  </tbody>\n",
       "</table></div>"
      ],
      "text/plain": [
       "                                Open       High    Low      Close\n",
       "Date                                                             \n",
       "2022-06-13 00:00:00-04:00  24.270000  24.980000  22.82  23.080000\n",
       "2022-06-14 00:00:00-04:00  23.639999  23.870001  22.52  23.230000\n",
       "2022-06-15 00:00:00-04:00  24.059999  25.920000  23.34  24.900000\n",
       "2022-06-16 00:00:00-04:00  22.990000  23.120001  21.32  21.860001\n",
       "2022-06-17 00:00:00-04:00  22.070000  23.280001  21.65  22.670000"
      ]
     },
     "execution_count": 4,
     "metadata": {},
     "output_type": "execute_result"
    }
   ],
   "source": [
    "tmp_df = df[['Open', 'High', 'Low', 'Close']].copy()\n",
    "tmp_df.head()"
   ]
  },
  {
   "cell_type": "code",
   "execution_count": 5,
   "metadata": {
    "colab": {
     "base_uri": "https://localhost:8080/",
     "height": 237
    },
    "executionInfo": {
     "elapsed": 10,
     "status": "ok",
     "timestamp": 1647576220316,
     "user": {
      "displayName": "Wonyoung Choi",
      "photoUrl": "https://lh3.googleusercontent.com/a-/AOh14GhjFoQLJd5EdOeEwIzqDPHlKqZmX2G5i_kDz-wENA=s64",
      "userId": "04340733572966642717"
     },
     "user_tz": -540
    },
    "id": "OtbFpF6L0u2r",
    "outputId": "851f1391-6e6e-44b1-a4f9-889e3ae7eecf"
   },
   "outputs": [
    {
     "data": {
      "text/html": [
       "<div><div id=fbe42502-8ffc-4001-94f1-7639d2bec4a0 style=\"display:none; background-color:#9D6CFF; color:white; width:200px; height:30px; padding-left:5px; border-radius:4px; flex-direction:row; justify-content:space-around; align-items:center;\" onmouseover=\"this.style.backgroundColor='#BA9BF8'\" onmouseout=\"this.style.backgroundColor='#9D6CFF'\" onclick=\"window.commands?.execute('create-mitosheet-from-dataframe-output');\">See Full Dataframe in Mito</div> <script> if (window.commands?.hasCommand('create-mitosheet-from-dataframe-output')) document.getElementById('fbe42502-8ffc-4001-94f1-7639d2bec4a0').style.display = 'flex' </script> <table border=\"1\" class=\"dataframe\">\n",
       "  <thead>\n",
       "    <tr style=\"text-align: right;\">\n",
       "      <th></th>\n",
       "      <th>Open-Close</th>\n",
       "      <th>High-Low</th>\n",
       "    </tr>\n",
       "    <tr>\n",
       "      <th>Date</th>\n",
       "      <th></th>\n",
       "      <th></th>\n",
       "    </tr>\n",
       "  </thead>\n",
       "  <tbody>\n",
       "    <tr>\n",
       "      <th>2022-06-13 00:00:00-04:00</th>\n",
       "      <td>1.190001</td>\n",
       "      <td>2.160000</td>\n",
       "    </tr>\n",
       "    <tr>\n",
       "      <th>2022-06-14 00:00:00-04:00</th>\n",
       "      <td>0.410000</td>\n",
       "      <td>1.350000</td>\n",
       "    </tr>\n",
       "    <tr>\n",
       "      <th>2022-06-15 00:00:00-04:00</th>\n",
       "      <td>-0.840000</td>\n",
       "      <td>2.580000</td>\n",
       "    </tr>\n",
       "    <tr>\n",
       "      <th>2022-06-16 00:00:00-04:00</th>\n",
       "      <td>1.129999</td>\n",
       "      <td>1.800001</td>\n",
       "    </tr>\n",
       "    <tr>\n",
       "      <th>2022-06-17 00:00:00-04:00</th>\n",
       "      <td>-0.600000</td>\n",
       "      <td>1.630001</td>\n",
       "    </tr>\n",
       "  </tbody>\n",
       "</table></div>"
      ],
      "text/plain": [
       "                           Open-Close  High-Low\n",
       "Date                                           \n",
       "2022-06-13 00:00:00-04:00    1.190001  2.160000\n",
       "2022-06-14 00:00:00-04:00    0.410000  1.350000\n",
       "2022-06-15 00:00:00-04:00   -0.840000  2.580000\n",
       "2022-06-16 00:00:00-04:00    1.129999  1.800001\n",
       "2022-06-17 00:00:00-04:00   -0.600000  1.630001"
      ]
     },
     "execution_count": 5,
     "metadata": {},
     "output_type": "execute_result"
    }
   ],
   "source": [
    "tmp_df['Open-Close'] = tmp_df['Open'] - tmp_df['Close']\n",
    "tmp_df['High-Low'] = tmp_df['High'] - tmp_df['Low']\n",
    "tmp_df = tmp_df.dropna()\n",
    "X = tmp_df[['Open-Close','High-Low']]\n",
    "Y = np.where(tmp_df['Close'].shift(-1) > tmp_df['Open'].shift(-1), 1, -1)\n",
    "\n",
    "X.head()"
   ]
  },
  {
   "cell_type": "code",
   "execution_count": 6,
   "metadata": {
    "colab": {
     "base_uri": "https://localhost:8080/"
    },
    "executionInfo": {
     "elapsed": 10,
     "status": "ok",
     "timestamp": 1647576220317,
     "user": {
      "displayName": "Wonyoung Choi",
      "photoUrl": "https://lh3.googleusercontent.com/a-/AOh14GhjFoQLJd5EdOeEwIzqDPHlKqZmX2G5i_kDz-wENA=s64",
      "userId": "04340733572966642717"
     },
     "user_tz": -540
    },
    "id": "1ZkVtpCn5BL0",
    "outputId": "b657952f-f93d-4858-8ee5-c94dc476285e"
   },
   "outputs": [
    {
     "data": {
      "text/plain": [
       "array([-1,  1, -1,  1,  1,  1,  1,  1, -1, -1,  1, -1,  1,  1,  1,  1,  1,\n",
       "       -1, -1,  1,  1,  1, -1,  1,  1,  1, -1, -1, -1,  1,  1,  1,  1,  1,\n",
       "        1,  1,  1, -1, -1,  1, -1,  1,  1,  1, -1,  1, -1, -1,  1,  1,  1,\n",
       "       -1, -1, -1, -1,  1, -1, -1,  1,  1,  1,  1, -1,  1, -1,  1,  1,  1,\n",
       "       -1, -1, -1, -1, -1,  1, -1, -1,  1,  1,  1, -1, -1, -1, -1, -1,  1,\n",
       "       -1,  1, -1,  1, -1,  1,  1,  1, -1, -1,  1, -1, -1, -1, -1, -1,  1,\n",
       "        1, -1,  1,  1, -1, -1, -1,  1, -1, -1,  1,  1, -1, -1, -1,  1, -1,\n",
       "        1, -1, -1,  1,  1, -1,  1, -1, -1, -1, -1, -1,  1,  1, -1,  1, -1,\n",
       "       -1,  1,  1, -1, -1, -1,  1, -1,  1,  1,  1,  1,  1, -1, -1,  1,  1,\n",
       "        1,  1,  1,  1, -1,  1,  1,  1,  1,  1,  1, -1, -1,  1,  1,  1,  1,\n",
       "       -1,  1, -1, -1, -1,  1, -1,  1, -1,  1,  1, -1, -1,  1, -1, -1,  1,\n",
       "        1,  1,  1, -1,  1,  1, -1, -1,  1, -1, -1,  1,  1,  1,  1, -1, -1,\n",
       "        1,  1, -1, -1,  1,  1,  1, -1,  1,  1,  1, -1, -1, -1,  1,  1,  1,\n",
       "       -1, -1, -1,  1,  1, -1,  1,  1, -1,  1,  1,  1,  1, -1,  1, -1,  1,\n",
       "        1,  1, -1, -1,  1,  1,  1,  1, -1,  1, -1, -1])"
      ]
     },
     "execution_count": 6,
     "metadata": {},
     "output_type": "execute_result"
    }
   ],
   "source": [
    "Y"
   ]
  },
  {
   "cell_type": "code",
   "execution_count": 7,
   "metadata": {
    "executionInfo": {
     "elapsed": 10,
     "status": "ok",
     "timestamp": 1647576220318,
     "user": {
      "displayName": "Wonyoung Choi",
      "photoUrl": "https://lh3.googleusercontent.com/a-/AOh14GhjFoQLJd5EdOeEwIzqDPHlKqZmX2G5i_kDz-wENA=s64",
      "userId": "04340733572966642717"
     },
     "user_tz": -540
    },
    "id": "U4oUqqCM1dKI"
   },
   "outputs": [],
   "source": [
    "x_min, x_max = X['Open-Close'].min() - .5, X['Open-Close'].max() + .5\n",
    "y_min, y_max = X['High-Low'].min() - .5, X['High-Low'].max() + .5"
   ]
  },
  {
   "cell_type": "code",
   "execution_count": 8,
   "metadata": {
    "colab": {
     "base_uri": "https://localhost:8080/",
     "height": 282
    },
    "executionInfo": {
     "elapsed": 714,
     "status": "ok",
     "timestamp": 1647576221022,
     "user": {
      "displayName": "Wonyoung Choi",
      "photoUrl": "https://lh3.googleusercontent.com/a-/AOh14GhjFoQLJd5EdOeEwIzqDPHlKqZmX2G5i_kDz-wENA=s64",
      "userId": "04340733572966642717"
     },
     "user_tz": -540
    },
    "id": "mlboYtON4Oe6",
    "outputId": "b18afa49-bfcb-456d-b15f-a7a752134ca6"
   },
   "outputs": [
    {
     "data": {
      "image/png": "[encoded data removed]",
      "text/plain": [
       "<Figure size 432x288 with 1 Axes>"
      ]
     },
     "metadata": {
      "needs_background": "light"
     },
     "output_type": "display_data"
    }
   ],
   "source": [
    "plt.scatter(X['Open-Close'], X['High-Low'], c=Y, cmap=plt.cm.Set1, edgecolor='k')\n",
    "plt.xlabel('Open-Close')\n",
    "plt.ylabel('High-Low')\n",
    "plt.xlim(x_min, x_max)\n",
    "plt.ylim(y_min, y_max)\n",
    "plt.show()"
   ]
  },
  {
   "cell_type": "code",
   "execution_count": 9,
   "metadata": {
    "executionInfo": {
     "elapsed": 372,
     "status": "ok",
     "timestamp": 1647576271995,
     "user": {
      "displayName": "Wonyoung Choi",
      "photoUrl": "https://lh3.googleusercontent.com/a-/AOh14GhjFoQLJd5EdOeEwIzqDPHlKqZmX2G5i_kDz-wENA=s64",
      "userId": "04340733572966642717"
     },
     "user_tz": -540
    },
    "id": "e2geQtutK8tb"
   },
   "outputs": [],
   "source": [
    "# 학습 데이터와 테스트 데이터를 분할\n",
    "split_ratio = 0.7\n",
    "split = int(split_ratio* len(tmp_df))\n",
    "X_train = X[:split]\n",
    "Y_train = Y[:split]\n",
    "\n",
    "X_test = X[split:]\n",
    "Y_test = Y[split:]"
   ]
  },
  {
   "cell_type": "code",
   "execution_count": 10,
   "metadata": {
    "executionInfo": {
     "elapsed": 3466,
     "status": "ok",
     "timestamp": 1647576301935,
     "user": {
      "displayName": "Wonyoung Choi",
      "photoUrl": "https://lh3.googleusercontent.com/a-/AOh14GhjFoQLJd5EdOeEwIzqDPHlKqZmX2G5i_kDz-wENA=s64",
      "userId": "04340733572966642717"
     },
     "user_tz": -540
    },
    "id": "BB2NiZ77MscD"
   },
   "outputs": [],
   "source": [
    "# 1~15까지의 k값을 가진 모델 생성\n",
    "train_acc = []\n",
    "test_acc = []\n",
    "\n",
    "for n in range(1,15):\n",
    "    clf = KNeighborsClassifier(n_jobs=-1, n_neighbors=n)\n",
    "    clf.fit(X_train, Y_train)\n",
    "    prediction = clf.predict(X_test)\n",
    "    train_acc.append(clf.score(X_train, Y_train))\n",
    "    test_acc.append((prediction==Y_test).mean())"
   ]
  },
  {
   "cell_type": "code",
   "execution_count": 11,
   "metadata": {
    "colab": {
     "base_uri": "https://localhost:8080/",
     "height": 552
    },
    "executionInfo": {
     "elapsed": 1167,
     "status": "ok",
     "timestamp": 1647576324018,
     "user": {
      "displayName": "Wonyoung Choi",
      "photoUrl": "https://lh3.googleusercontent.com/a-/AOh14GhjFoQLJd5EdOeEwIzqDPHlKqZmX2G5i_kDz-wENA=s64",
      "userId": "04340733572966642717"
     },
     "user_tz": -540
    },
    "id": "-h4PAHQbMzDj",
    "outputId": "8394a1ba-d48b-46ca-9c81-41c07c15f27a"
   },
   "outputs": [
    {
     "data": {
      "image/png": "[encoded data removed]",
      "text/plain": [
       "<Figure size 864x648 with 1 Axes>"
      ]
     },
     "metadata": {
      "needs_background": "light"
     },
     "output_type": "display_data"
    }
   ],
   "source": [
    "# 그래프로 결과 보기\n",
    "plt.figure(figsize=(12, 9))\n",
    "plt.plot(range(1, 15), train_acc, label='TRAIN set')\n",
    "plt.plot(range(1, 15), test_acc, label='TEST set')\n",
    "plt.xlabel(\"n_neighbors\")\n",
    "plt.ylabel(\"accuracy\")\n",
    "plt.xticks(np.arange(0, 16, step=1))\n",
    "plt.legend();"
   ]
  },
  {
   "cell_type": "code",
   "execution_count": 12,
   "metadata": {
    "colab": {
     "base_uri": "https://localhost:8080/"
    },
    "executionInfo": {
     "elapsed": 618,
     "status": "ok",
     "timestamp": 1647576714851,
     "user": {
      "displayName": "Wonyoung Choi",
      "photoUrl": "https://lh3.googleusercontent.com/a-/AOh14GhjFoQLJd5EdOeEwIzqDPHlKqZmX2G5i_kDz-wENA=s64",
      "userId": "04340733572966642717"
     },
     "user_tz": -540
    },
    "id": "0FPepW78M37L",
    "outputId": "109a3d50-9bdb-4a0b-b237-c8214ffdcab3"
   },
   "outputs": [
    {
     "name": "stdout",
     "output_type": "stream",
     "text": [
      "훈련 정확도 : 0.57\n",
      "테스트 정확도 : 0.36\n"
     ]
    }
   ],
   "source": [
    "knn = KNeighborsClassifier(n_neighbors = 14)\n",
    "\n",
    "knn.fit(X_train,Y_train)\n",
    "\n",
    "accuracy_train = accuracy_score(Y_train, knn.predict(X_train))\n",
    "accuracy_test = accuracy_score(Y_test, knn.predict(X_test))\n",
    "\n",
    "print('훈련 정확도 : %.2f' % accuracy_train)\n",
    "print('테스트 정확도 : %.2f' % accuracy_test)"
   ]
  },
  {
   "cell_type": "code",
   "execution_count": 13,
   "metadata": {
    "colab": {
     "base_uri": "https://localhost:8080/",
     "height": 373
    },
    "executionInfo": {
     "elapsed": 689,
     "status": "ok",
     "timestamp": 1647576456620,
     "user": {
      "displayName": "Wonyoung Choi",
      "photoUrl": "https://lh3.googleusercontent.com/a-/AOh14GhjFoQLJd5EdOeEwIzqDPHlKqZmX2G5i_kDz-wENA=s64",
      "userId": "04340733572966642717"
     },
     "user_tz": -540
    },
    "id": "bY5Y2EhCM8yX",
    "outputId": "6ab02caf-25a5-4b2d-e713-16af184bc9b6"
   },
   "outputs": [
    {
     "data": {
      "image/png": "[encoded data removed]",
      "text/plain": [
       "<Figure size 864x432 with 1 Axes>"
      ]
     },
     "metadata": {
      "needs_background": "light"
     },
     "output_type": "display_data"
    }
   ],
   "source": [
    "# KNN 모델\n",
    "# 1 이라고 예측하면 매수\n",
    "# -1 이라고 예측하면 공매도\n",
    "\n",
    "tmp_df['Predicted_Signal'] = knn.predict(X)\n",
    "\n",
    "tmp_df['TQQQ_ret'] = np.log(tmp_df['Close'] / tmp_df['Open'])\n",
    "cum_tqqq_ret = tmp_df[split:]['TQQQ_ret'].cumsum() * 100\n",
    "\n",
    "tmp_df['strategy_ret'] = tmp_df['TQQQ_ret'] * tmp_df['Predicted_Signal'].shift(1)\n",
    "cum_st_ret = tmp_df[split:]['strategy_ret'].cumsum() * 100\n",
    "\n",
    "plt.figure(figsize=(12,6))\n",
    "plt.plot(cum_tqqq_ret, color='b',label='TQQQ ret')\n",
    "plt.plot(cum_st_ret , color='r', label='strategy ret')\n",
    "plt.legend()\n",
    "plt.show()"
   ]
  },
  {
   "cell_type": "code",
   "execution_count": 14,
   "metadata": {
    "colab": {
     "base_uri": "https://localhost:8080/"
    },
    "executionInfo": {
     "elapsed": 420,
     "status": "ok",
     "timestamp": 1647576491598,
     "user": {
      "displayName": "Wonyoung Choi",
      "photoUrl": "https://lh3.googleusercontent.com/a-/AOh14GhjFoQLJd5EdOeEwIzqDPHlKqZmX2G5i_kDz-wENA=s64",
      "userId": "04340733572966642717"
     },
     "user_tz": -540
    },
    "id": "EoMzrwzhNZVR",
    "outputId": "27fa561a-345a-42b8-867b-10f57e8403f6"
   },
   "outputs": [
    {
     "name": "stdout",
     "output_type": "stream",
     "text": [
      "TOTAL :  250\n",
      "UP predict :  108\n",
      "DOWN predict :  142\n"
     ]
    }
   ],
   "source": [
    "print('TOTAL : ',tmp_df['Predicted_Signal'].count())\n",
    "print('UP predict : ',tmp_df.loc[tmp_df['Predicted_Signal'] == 1,['Predicted_Signal']].count()[0])\n",
    "print('DOWN predict : ',tmp_df.loc[tmp_df['Predicted_Signal'] == -1,['Predicted_Signal']].count()[0])"
   ]
  },
  {
   "cell_type": "code",
   "execution_count": 15,
   "metadata": {
    "executionInfo": {
     "elapsed": 379,
     "status": "ok",
     "timestamp": 1647576509456,
     "user": {
      "displayName": "Wonyoung Choi",
      "photoUrl": "https://lh3.googleusercontent.com/a-/AOh14GhjFoQLJd5EdOeEwIzqDPHlKqZmX2G5i_kDz-wENA=s64",
      "userId": "04340733572966642717"
     },
     "user_tz": -540
    },
    "id": "N523R0xSNiCo"
   },
   "outputs": [],
   "source": [
    "test = tmp_df[split:]['TQQQ_ret']"
   ]
  },
  {
   "cell_type": "code",
   "execution_count": 16,
   "metadata": {
    "colab": {
     "base_uri": "https://localhost:8080/"
    },
    "executionInfo": {
     "elapsed": 423,
     "status": "ok",
     "timestamp": 1647576515901,
     "user": {
      "displayName": "Wonyoung Choi",
      "photoUrl": "https://lh3.googleusercontent.com/a-/AOh14GhjFoQLJd5EdOeEwIzqDPHlKqZmX2G5i_kDz-wENA=s64",
      "userId": "04340733572966642717"
     },
     "user_tz": -540
    },
    "id": "Fxl6EaWBNmet",
    "outputId": "138a268a-78db-4dfa-eea0-682f4f733b96"
   },
   "outputs": [
    {
     "data": {
      "text/plain": [
       "Date\n",
       "2023-02-23 00:00:00-05:00   -0.011275\n",
       "2023-02-24 00:00:00-05:00   -0.010356\n",
       "2023-02-27 00:00:00-05:00   -0.021089\n",
       "2023-02-28 00:00:00-05:00   -0.018828\n",
       "2023-03-01 00:00:00-05:00   -0.040363\n",
       "2023-03-02 00:00:00-05:00    0.010668\n",
       "2023-03-03 00:00:00-05:00    0.052450\n",
       "2023-03-06 00:00:00-05:00    0.043997\n",
       "2023-03-07 00:00:00-05:00    0.005930\n",
       "2023-03-08 00:00:00-05:00    0.016424\n",
       "2023-03-09 00:00:00-05:00   -0.042849\n",
       "2023-03-10 00:00:00-05:00   -0.086885\n",
       "2023-03-13 00:00:00-04:00   -0.045731\n",
       "2023-03-14 00:00:00-04:00   -0.016330\n",
       "2023-03-15 00:00:00-04:00    0.025196\n",
       "2023-03-16 00:00:00-04:00    0.111405\n",
       "2023-03-17 00:00:00-04:00    0.096860\n",
       "2023-03-20 00:00:00-04:00    0.113100\n",
       "2023-03-21 00:00:00-04:00    0.135371\n",
       "2023-03-22 00:00:00-04:00    0.094485\n",
       "2023-03-23 00:00:00-04:00    0.092921\n",
       "2023-03-24 00:00:00-04:00    0.107747\n",
       "2023-03-27 00:00:00-04:00    0.080445\n",
       "2023-03-28 00:00:00-04:00    0.069647\n",
       "2023-03-29 00:00:00-04:00    0.087728\n",
       "2023-03-30 00:00:00-04:00    0.092192\n",
       "2023-03-31 00:00:00-04:00    0.137803\n",
       "2023-04-03 00:00:00-04:00    0.151437\n",
       "2023-04-04 00:00:00-04:00    0.137851\n",
       "2023-04-05 00:00:00-04:00    0.116511\n",
       "2023-04-06 00:00:00-04:00    0.152514\n",
       "2023-04-10 00:00:00-04:00    0.179548\n",
       "2023-04-11 00:00:00-04:00    0.160359\n",
       "2023-04-12 00:00:00-04:00    0.115093\n",
       "2023-04-13 00:00:00-04:00    0.155718\n",
       "2023-04-14 00:00:00-04:00    0.165228\n",
       "2023-04-17 00:00:00-04:00    0.170698\n",
       "2023-04-18 00:00:00-04:00    0.150910\n",
       "2023-04-19 00:00:00-04:00    0.172629\n",
       "2023-04-20 00:00:00-04:00    0.178238\n",
       "2023-04-21 00:00:00-04:00    0.184585\n",
       "2023-04-24 00:00:00-04:00    0.180848\n",
       "2023-04-25 00:00:00-04:00    0.138884\n",
       "2023-04-26 00:00:00-04:00    0.123392\n",
       "2023-04-27 00:00:00-04:00    0.165057\n",
       "2023-04-28 00:00:00-04:00    0.186886\n",
       "2023-05-01 00:00:00-04:00    0.187952\n",
       "2023-05-02 00:00:00-04:00    0.162032\n",
       "2023-05-03 00:00:00-04:00    0.139229\n",
       "2023-05-04 00:00:00-04:00    0.131732\n",
       "2023-05-05 00:00:00-04:00    0.171137\n",
       "2023-05-08 00:00:00-04:00    0.183164\n",
       "2023-05-09 00:00:00-04:00    0.179585\n",
       "2023-05-10 00:00:00-04:00    0.189008\n",
       "2023-05-11 00:00:00-04:00    0.193150\n",
       "2023-05-12 00:00:00-04:00    0.177608\n",
       "2023-05-15 00:00:00-04:00    0.188639\n",
       "2023-05-16 00:00:00-04:00    0.198938\n",
       "2023-05-17 00:00:00-04:00    0.224992\n",
       "2023-05-18 00:00:00-04:00    0.275034\n",
       "2023-05-19 00:00:00-04:00    0.265939\n",
       "2023-05-22 00:00:00-04:00    0.278174\n",
       "2023-05-23 00:00:00-04:00    0.254772\n",
       "2023-05-24 00:00:00-04:00    0.256752\n",
       "2023-05-25 00:00:00-04:00    0.261684\n",
       "2023-05-26 00:00:00-04:00    0.325728\n",
       "2023-05-30 00:00:00-04:00    0.302322\n",
       "2023-05-31 00:00:00-04:00    0.296011\n",
       "2023-06-01 00:00:00-04:00    0.331915\n",
       "2023-06-02 00:00:00-04:00    0.339002\n",
       "2023-06-05 00:00:00-04:00    0.342803\n",
       "2023-06-06 00:00:00-04:00    0.347426\n",
       "2023-06-07 00:00:00-04:00    0.292907\n",
       "2023-06-08 00:00:00-04:00    0.325495\n",
       "2023-06-09 00:00:00-04:00    0.323857\n",
       "Name: TQQQ_ret, dtype: float64"
      ]
     },
     "execution_count": 16,
     "metadata": {},
     "output_type": "execute_result"
    }
   ],
   "source": [
    "test.cumsum()"
   ]
  },
  {
   "cell_type": "code",
   "execution_count": 17,
   "metadata": {
    "colab": {
     "base_uri": "https://localhost:8080/"
    },
    "executionInfo": {
     "elapsed": 481,
     "status": "ok",
     "timestamp": 1647576535608,
     "user": {
      "displayName": "Wonyoung Choi",
      "photoUrl": "https://lh3.googleusercontent.com/a-/AOh14GhjFoQLJd5EdOeEwIzqDPHlKqZmX2G5i_kDz-wENA=s64",
      "userId": "04340733572966642717"
     },
     "user_tz": -540
    },
    "id": "0kIau0gBNn_Z",
    "outputId": "cd1e5621-fbcf-4853-fbf6-a74687fcc2b1"
   },
   "outputs": [
    {
     "name": "stdout",
     "output_type": "stream",
     "text": [
      "Sharpe ratio : -2.62\n"
     ]
    }
   ],
   "source": [
    "std = cum_st_ret.std()\n",
    "sharpe = (cum_st_ret - cum_tqqq_ret) / std\n",
    "sharpe = sharpe.mean()\n",
    "print('Sharpe ratio : %.2f' % sharpe)"
   ]
  },
  {
   "cell_type": "code",
   "execution_count": 18,
   "metadata": {
    "colab": {
     "base_uri": "https://localhost:8080/"
    },
    "executionInfo": {
     "elapsed": 427,
     "status": "ok",
     "timestamp": 1647576603312,
     "user": {
      "displayName": "Wonyoung Choi",
      "photoUrl": "https://lh3.googleusercontent.com/a-/AOh14GhjFoQLJd5EdOeEwIzqDPHlKqZmX2G5i_kDz-wENA=s64",
      "userId": "04340733572966642717"
     },
     "user_tz": -540
    },
    "id": "q6q_FZp6Nsx9",
    "outputId": "3fa7736a-9b3d-4e91-f129-9b7807bdcf20"
   },
   "outputs": [
    {
     "name": "stdout",
     "output_type": "stream",
     "text": [
      "Date\n",
      "2023-02-23 00:00:00-05:00    -1.127506\n",
      "2023-02-24 00:00:00-05:00    -1.035593\n",
      "2023-02-27 00:00:00-05:00    -2.108947\n",
      "2023-02-28 00:00:00-05:00    -1.882757\n",
      "2023-03-01 00:00:00-05:00    -4.036331\n",
      "2023-03-02 00:00:00-05:00     1.066819\n",
      "2023-03-03 00:00:00-05:00     5.244968\n",
      "2023-03-06 00:00:00-05:00     4.399651\n",
      "2023-03-07 00:00:00-05:00     0.592967\n",
      "2023-03-08 00:00:00-05:00     1.642385\n",
      "2023-03-09 00:00:00-05:00    -4.284945\n",
      "2023-03-10 00:00:00-05:00    -8.688469\n",
      "2023-03-13 00:00:00-04:00    -4.573053\n",
      "2023-03-14 00:00:00-04:00    -1.632976\n",
      "2023-03-15 00:00:00-04:00     2.519567\n",
      "2023-03-16 00:00:00-04:00    11.140550\n",
      "2023-03-17 00:00:00-04:00     9.685976\n",
      "2023-03-20 00:00:00-04:00    11.310046\n",
      "2023-03-21 00:00:00-04:00    13.537135\n",
      "2023-03-22 00:00:00-04:00     9.448457\n",
      "2023-03-23 00:00:00-04:00     9.292081\n",
      "2023-03-24 00:00:00-04:00    10.774743\n",
      "2023-03-27 00:00:00-04:00     8.044468\n",
      "2023-03-28 00:00:00-04:00     6.964680\n",
      "2023-03-29 00:00:00-04:00     8.772766\n",
      "2023-03-30 00:00:00-04:00     9.219199\n",
      "2023-03-31 00:00:00-04:00    13.780251\n",
      "2023-04-03 00:00:00-04:00    15.143742\n",
      "2023-04-04 00:00:00-04:00    13.785126\n",
      "2023-04-05 00:00:00-04:00    11.651123\n",
      "2023-04-06 00:00:00-04:00    15.251442\n",
      "2023-04-10 00:00:00-04:00    17.954815\n",
      "2023-04-11 00:00:00-04:00    16.035936\n",
      "2023-04-12 00:00:00-04:00    11.509257\n",
      "2023-04-13 00:00:00-04:00    15.571848\n",
      "2023-04-14 00:00:00-04:00    16.522844\n",
      "2023-04-17 00:00:00-04:00    17.069790\n",
      "2023-04-18 00:00:00-04:00    15.090955\n",
      "2023-04-19 00:00:00-04:00    17.262946\n",
      "2023-04-20 00:00:00-04:00    17.823799\n",
      "2023-04-21 00:00:00-04:00    18.458485\n",
      "2023-04-24 00:00:00-04:00    18.084791\n",
      "2023-04-25 00:00:00-04:00    13.888371\n",
      "2023-04-26 00:00:00-04:00    12.339155\n",
      "2023-04-27 00:00:00-04:00    16.505660\n",
      "2023-04-28 00:00:00-04:00    18.688608\n",
      "2023-05-01 00:00:00-04:00    18.795164\n",
      "2023-05-02 00:00:00-04:00    16.203229\n",
      "2023-05-03 00:00:00-04:00    13.922877\n",
      "2023-05-04 00:00:00-04:00    13.173245\n",
      "2023-05-05 00:00:00-04:00    17.113745\n",
      "2023-05-08 00:00:00-04:00    18.316448\n",
      "2023-05-09 00:00:00-04:00    17.958537\n",
      "2023-05-10 00:00:00-04:00    18.900789\n",
      "2023-05-11 00:00:00-04:00    19.315014\n",
      "2023-05-12 00:00:00-04:00    17.760845\n",
      "2023-05-15 00:00:00-04:00    18.863923\n",
      "2023-05-16 00:00:00-04:00    19.893802\n",
      "2023-05-17 00:00:00-04:00    22.499162\n",
      "2023-05-18 00:00:00-04:00    27.503412\n",
      "2023-05-19 00:00:00-04:00    26.593890\n",
      "2023-05-22 00:00:00-04:00    27.817433\n",
      "2023-05-23 00:00:00-04:00    25.477209\n",
      "2023-05-24 00:00:00-04:00    25.675227\n",
      "2023-05-25 00:00:00-04:00    26.168445\n",
      "2023-05-26 00:00:00-04:00    32.572752\n",
      "2023-05-30 00:00:00-04:00    30.232160\n",
      "2023-05-31 00:00:00-04:00    29.601059\n",
      "2023-06-01 00:00:00-04:00    33.191541\n",
      "2023-06-02 00:00:00-04:00    33.900179\n",
      "2023-06-05 00:00:00-04:00    34.280313\n",
      "2023-06-06 00:00:00-04:00    34.742590\n",
      "2023-06-07 00:00:00-04:00    29.290742\n",
      "2023-06-08 00:00:00-04:00    32.549457\n",
      "2023-06-09 00:00:00-04:00    32.385742\n"
     ]
    }
   ],
   "source": [
    "print(cum_tqqq_ret.to_string())"
   ]
  }
 ],
 "metadata": {
  "colab": {
   "authorship_tag": "ABX9TyPZmBI8CdnI4u1SMbfVQQTQ",
   "name": "MachineLearningTrading.ipynb",
   "provenance": []
  },
  "kernelspec": {
   "display_name": "Python 3 (ipykernel)",
   "language": "python",
   "name": "python3"
  },
  "language_info": {
   "codemirror_mode": {
    "name": "ipython",
    "version": 3
   },
   "file_extension": ".py",
   "mimetype": "text/x-python",
   "name": "python",
   "nbconvert_exporter": "python",
   "pygments_lexer": "ipython3",
   "version": "3.9.7"
  }
 },
 "nbformat": 4,
 "nbformat_minor": 4
}
