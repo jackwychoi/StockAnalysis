{
 "cells": [
  {
   "cell_type": "code",
   "execution_count": 1,
   "metadata": {
    "executionInfo": {
     "elapsed": 2150,
     "status": "ok",
     "timestamp": 1651247383662,
     "user": {
      "displayName": "Wonyoung Choi",
      "userId": "04340733572966642717"
     },
     "user_tz": -540
    },
    "id": "tbeCL5Dq7tef"
   },
   "outputs": [],
   "source": [
    "import numpy as np \n",
    "import pandas as pd \n",
    "import seaborn as sns\n",
    "import matplotlib.pyplot as plt\n",
    "import matplotlib.dates as matdates\n",
    "from datetime import datetime as dt\n",
    "from datetime import date, timedelta\n",
    "import time\n",
    "import yfinance as yf\n",
    "import random\n",
    "import warnings\n",
    "warnings.filterwarnings('ignore')"
   ]
  },
  {
   "cell_type": "code",
   "execution_count": 2,
   "metadata": {
    "executionInfo": {
     "elapsed": 3,
     "status": "ok",
     "timestamp": 1651247383662,
     "user": {
      "displayName": "Wonyoung Choi",
      "userId": "04340733572966642717"
     },
     "user_tz": -540
    },
    "id": "itEQClSP7v4E"
   },
   "outputs": [],
   "source": [
    "pd.set_option('display.max_rows', None)\n",
    "pd.set_option('display.max_columns', None)"
   ]
  },
  {
   "cell_type": "code",
   "execution_count": 3,
   "metadata": {
    "executionInfo": {
     "elapsed": 3,
     "status": "ok",
     "timestamp": 1651247383663,
     "user": {
      "displayName": "Wonyoung Choi",
      "userId": "04340733572966642717"
     },
     "user_tz": -540
    },
    "id": "vumqowqm7z22"
   },
   "outputs": [],
   "source": [
    "stock_list = {'SPY' : '미국 대형주/SPY',\n",
    "              'EFA' : '미국 외 선진국 주식/EFA',\n",
    "              'BIL' : '초단기채권/BIL'} "
   ]
  },
  {
   "cell_type": "code",
   "execution_count": 4,
   "metadata": {
    "executionInfo": {
     "elapsed": 3,
     "status": "ok",
     "timestamp": 1651247383663,
     "user": {
      "displayName": "Wonyoung Choi",
      "userId": "04340733572966642717"
     },
     "user_tz": -540
    },
    "id": "9T5yWwdH8Ivt"
   },
   "outputs": [],
   "source": [
    "def to_index(x): # 인덱스화\n",
    "    for i in range(1,len(x)):\n",
    "        x.iloc[i] = (x.iloc[i]/x.iloc[0])*100\n",
    "    x.iloc[0] = 100\n",
    "def get_return(x):  #기간 동안의 첫번째 종가와 마지막 시가로 수익률 계산\n",
    "    global stock_return\n",
    "    rate_of_return = round((x.iloc[-1]-100),2)\n",
    "    stock_return.append(rate_of_return)"
   ]
  },
  {
   "cell_type": "code",
   "execution_count": 5,
   "metadata": {
    "colab": {
     "base_uri": "https://localhost:8080/"
    },
    "executionInfo": {
     "elapsed": 1707,
     "status": "ok",
     "timestamp": 1651247385368,
     "user": {
      "displayName": "Wonyoung Choi",
      "userId": "04340733572966642717"
     },
     "user_tz": -540
    },
    "id": "ABJci30F8O0G",
    "outputId": "159268a9-83ba-4bfc-d510-c5ada18f584c"
   },
   "outputs": [
    {
     "name": "stdout",
     "output_type": "stream",
     "text": [
      "[*********************100%***********************]  1 of 1 completed\n",
      "[*********************100%***********************]  1 of 1 completed\n",
      "[*********************100%***********************]  1 of 1 completed\n",
      "[*********************100%***********************]  1 of 1 completed\n",
      "[*********************100%***********************]  1 of 1 completed\n",
      "[*********************100%***********************]  1 of 1 completed\n",
      "--- 1.6153616905212402 seconds ---\n"
     ]
    }
   ],
   "source": [
    "start_time = time.time()\n",
    "\n",
    "df = pd.DataFrame({'12 Month' : []})\n",
    "end = dt.now()\n",
    "start = end - timedelta(weeks=48)\n",
    "stock_return = []\n",
    "stock_category = []\n",
    "ten_mon_avg = []\n",
    "current_value = []\n",
    "\n",
    "for code, category in zip(stock_list.keys(), stock_list.values()):\n",
    "    current = yf.download(code, end - timedelta(days=3))['Close']\n",
    "    current_value.append(current[-1])\n",
    "    code = yf.download(code, start)['Close']\n",
    "    to_index(code)\n",
    "    get_return(code)\n",
    "    stock_category.append(category)\n",
    "df['12 Month'] = stock_return\n",
    "df['Category'] = stock_category\n",
    "ctgrset = df['Category'].copy().str.split('/', expand=True)\n",
    "df['Category'] = ctgrset[0]\n",
    "df['Ticker'] = ctgrset[1]\n",
    "df = df.sort_values('12 Month', ascending=False).reset_index(drop=True)\n",
    "df.insert(1, 'Top Rank', range(1, 1 + len(df)))\n",
    "\n",
    "print(\"--- %s seconds ---\" % (time.time() - start_time))"
   ]
  },
  {
   "cell_type": "code",
   "execution_count": 6,
   "metadata": {
    "colab": {
     "base_uri": "https://localhost:8080/",
     "height": 294
    },
    "executionInfo": {
     "elapsed": 5,
     "status": "ok",
     "timestamp": 1651247385368,
     "user": {
      "displayName": "Wonyoung Choi",
      "userId": "04340733572966642717"
     },
     "user_tz": -540
    },
    "id": "r7alakaV9jN2",
    "outputId": "238ed0f4-2900-41b2-d7ba-89fb2291d1ca"
   },
   "outputs": [
    {
     "data": {
      "text/html": [
       "<div><div id=98501b90-a80d-4df8-8f3e-ff213bf829ef style=\"display:none; background-color:#9D6CFF; color:white; width:200px; height:30px; padding-left:5px; border-radius:4px; flex-direction:row; justify-content:space-around; align-items:center;\" onmouseover=\"this.style.backgroundColor='#BA9BF8'\" onmouseout=\"this.style.backgroundColor='#9D6CFF'\" onclick=\"window.commands?.execute('create-mitosheet-from-dataframe-output');\">See Full Dataframe in Mito</div> <script> if (window.commands?.hasCommand('create-mitosheet-from-dataframe-output')) document.getElementById('98501b90-a80d-4df8-8f3e-ff213bf829ef').style.display = 'flex' </script> <table border=\"1\" class=\"dataframe\">\n",
       "  <thead>\n",
       "    <tr style=\"text-align: right;\">\n",
       "      <th></th>\n",
       "      <th>12 Month</th>\n",
       "      <th>Top Rank</th>\n",
       "      <th>Category</th>\n",
       "      <th>Ticker</th>\n",
       "    </tr>\n",
       "  </thead>\n",
       "  <tbody>\n",
       "    <tr>\n",
       "      <th>0</th>\n",
       "      <td>16.94</td>\n",
       "      <td>1</td>\n",
       "      <td>미국 외 선진국 주식</td>\n",
       "      <td>EFA</td>\n",
       "    </tr>\n",
       "    <tr>\n",
       "      <th>1</th>\n",
       "      <td>10.04</td>\n",
       "      <td>2</td>\n",
       "      <td>미국 대형주</td>\n",
       "      <td>SPY</td>\n",
       "    </tr>\n",
       "    <tr>\n",
       "      <th>2</th>\n",
       "      <td>0.05</td>\n",
       "      <td>3</td>\n",
       "      <td>초단기채권</td>\n",
       "      <td>BIL</td>\n",
       "    </tr>\n",
       "  </tbody>\n",
       "</table></div>"
      ],
      "text/plain": [
       "   12 Month  Top Rank     Category Ticker\n",
       "0     16.94         1  미국 외 선진국 주식    EFA\n",
       "1     10.04         2       미국 대형주    SPY\n",
       "2      0.05         3        초단기채권    BIL"
      ]
     },
     "execution_count": 6,
     "metadata": {},
     "output_type": "execute_result"
    }
   ],
   "source": [
    "df"
   ]
  },
  {
   "cell_type": "code",
   "execution_count": 7,
   "metadata": {
    "executionInfo": {
     "elapsed": 3,
     "status": "ok",
     "timestamp": 1651247385368,
     "user": {
      "displayName": "Wonyoung Choi",
      "userId": "04340733572966642717"
     },
     "user_tz": -540
    },
    "id": "vnQqtHGc-fc2"
   },
   "outputs": [],
   "source": [
    "# 매월 말 SPY, EFA, BIL(초단기채권)의 최근 12개월 수익률을 계산\n",
    "# SPY의 수익률이 BIL보다 높으면 SPY 또는 EFA 중 최근 12개월 수익률이 더 높은 ETF에 투자\n",
    "# SPY의 수익률이 BIL보다 낮으면 AGG에 투자"
   ]
  }
 ],
 "metadata": {
  "colab": {
   "authorship_tag": "ABX9TyPbfnFws4qN2bLMjOynClgl",
   "name": "OriginalDualMomentum.ipynb",
   "provenance": []
  },
  "kernelspec": {
   "display_name": "Python 3 (ipykernel)",
   "language": "python",
   "name": "python3"
  },
  "language_info": {
   "codemirror_mode": {
    "name": "ipython",
    "version": 3
   },
   "file_extension": ".py",
   "mimetype": "text/x-python",
   "name": "python",
   "nbconvert_exporter": "python",
   "pygments_lexer": "ipython3",
   "version": "3.9.7"
  }
 },
 "nbformat": 4,
 "nbformat_minor": 4
}
